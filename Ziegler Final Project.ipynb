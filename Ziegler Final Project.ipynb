{
 "cells": [
  {
   "cell_type": "markdown",
   "id": "union-scheme",
   "metadata": {},
   "source": [
    "The data that I will be using is US presidential election data from 1976 - 2020. The source of the data is MIT's Election Data Science Lab, hosted by Harvard Dataverse. This data was given to me by Dr. Silva.\n",
    "Link: https://dataverse.harvard.edu/file.xhtml?fileId=4299753&version=6.0\n",
    "This data includes the following: election year, state, office, candidate, party, candidate votes, total votes, etc."
   ]
  },
  {
   "cell_type": "code",
   "execution_count": 6,
   "id": "current-kuwait",
   "metadata": {},
   "outputs": [
    {
     "name": "stdout",
     "output_type": "stream",
     "text": [
      "      year    state state_po  state_fips  state_cen  state_ic        office  \\\n",
      "0     1976  ALABAMA       AL           1         63        41  US PRESIDENT   \n",
      "1     1976  ALABAMA       AL           1         63        41  US PRESIDENT   \n",
      "2     1976  ALABAMA       AL           1         63        41  US PRESIDENT   \n",
      "3     1976  ALABAMA       AL           1         63        41  US PRESIDENT   \n",
      "4     1976  ALABAMA       AL           1         63        41  US PRESIDENT   \n",
      "...    ...      ...      ...         ...        ...       ...           ...   \n",
      "4282  2020  WYOMING       WY          56         83        68  US PRESIDENT   \n",
      "4283  2020  WYOMING       WY          56         83        68  US PRESIDENT   \n",
      "4284  2020  WYOMING       WY          56         83        68  US PRESIDENT   \n",
      "4285  2020  WYOMING       WY          56         83        68  US PRESIDENT   \n",
      "4286  2020  WYOMING       WY          56         83        68  US PRESIDENT   \n",
      "\n",
      "                    candidate              party_detailed writein  \\\n",
      "0               CARTER, JIMMY                    DEMOCRAT   False   \n",
      "1                FORD, GERALD                  REPUBLICAN   False   \n",
      "2              MADDOX, LESTER  AMERICAN INDEPENDENT PARTY   False   \n",
      "3     BUBAR, BENJAMIN \"\"BEN\"\"                 PROHIBITION   False   \n",
      "4                   HALL, GUS         COMMUNIST PARTY USE   False   \n",
      "...                       ...                         ...     ...   \n",
      "4282            JORGENSEN, JO                 LIBERTARIAN   False   \n",
      "4283            PIERCE, BROCK                 INDEPENDENT   False   \n",
      "4284                      NaN                         NaN    True   \n",
      "4285                OVERVOTES                         NaN   False   \n",
      "4286               UNDERVOTES                         NaN   False   \n",
      "\n",
      "      candidatevotes  totalvotes   version  notes party_simplified  \n",
      "0             659170     1182850  20210113    NaN         DEMOCRAT  \n",
      "1             504070     1182850  20210113    NaN       REPUBLICAN  \n",
      "2               9198     1182850  20210113    NaN            OTHER  \n",
      "3               6669     1182850  20210113    NaN            OTHER  \n",
      "4               1954     1182850  20210113    NaN            OTHER  \n",
      "...              ...         ...       ...    ...              ...  \n",
      "4282            5768      278503  20210113    NaN      LIBERTARIAN  \n",
      "4283            2208      278503  20210113    NaN            OTHER  \n",
      "4284            1739      278503  20210113    NaN            OTHER  \n",
      "4285             279      278503  20210113    NaN            OTHER  \n",
      "4286            1459      278503  20210113    NaN            OTHER  \n",
      "\n",
      "[4287 rows x 15 columns]\n"
     ]
    }
   ],
   "source": [
    "import pandas as pd\n",
    "with open(r'C:\\Users\\Dave\\Dropbox\\College\\Data in Emerging Media and Technologies\\1976-2020-president.csv') as d:\n",
    "    df = pd.read_csv(r\"C:\\Users\\Dave\\Dropbox\\College\\Data in Emerging Media and Technologies\\1976-2020-president.csv\")\n",
    "print(df)"
   ]
  },
  {
   "cell_type": "code",
   "execution_count": null,
   "id": "reduced-wrist",
   "metadata": {},
   "outputs": [],
   "source": []
  }
 ],
 "metadata": {
  "kernelspec": {
   "display_name": "Python 3",
   "language": "python",
   "name": "python3"
  },
  "language_info": {
   "codemirror_mode": {
    "name": "ipython",
    "version": 3
   },
   "file_extension": ".py",
   "mimetype": "text/x-python",
   "name": "python",
   "nbconvert_exporter": "python",
   "pygments_lexer": "ipython3",
   "version": "3.9.1"
  }
 },
 "nbformat": 4,
 "nbformat_minor": 5
}
