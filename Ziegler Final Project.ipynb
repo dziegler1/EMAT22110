{
 "cells": [
  {
   "cell_type": "markdown",
   "id": "deluxe-church",
   "metadata": {},
   "source": [
    "The data that I will be using is US presidential election data from 1976 - 2020. The source of the data is MIT's Election Data Science Lab, hosted by Harvard Dataverse. This data was given to me by Dr. Silva.\n",
    "Link: https://dataverse.harvard.edu/file.xhtml?fileId=4299753&version=6.0\n",
    "This data includes the following: election year, state, office, candidate, party, candidate votes, total votes, etc."
   ]
  },
  {
   "cell_type": "code",
   "execution_count": 218,
   "id": "informative-effect",
   "metadata": {},
   "outputs": [
    {
     "name": "stdout",
     "output_type": "stream",
     "text": [
      "      year    state state_po  state_fips  state_cen  state_ic        office  \\\n",
      "0     1976  ALABAMA       AL           1         63        41  US PRESIDENT   \n",
      "1     1976  ALABAMA       AL           1         63        41  US PRESIDENT   \n",
      "2     1976  ALABAMA       AL           1         63        41  US PRESIDENT   \n",
      "3     1976  ALABAMA       AL           1         63        41  US PRESIDENT   \n",
      "4     1976  ALABAMA       AL           1         63        41  US PRESIDENT   \n",
      "...    ...      ...      ...         ...        ...       ...           ...   \n",
      "4282  2020  WYOMING       WY          56         83        68  US PRESIDENT   \n",
      "4283  2020  WYOMING       WY          56         83        68  US PRESIDENT   \n",
      "4284  2020  WYOMING       WY          56         83        68  US PRESIDENT   \n",
      "4285  2020  WYOMING       WY          56         83        68  US PRESIDENT   \n",
      "4286  2020  WYOMING       WY          56         83        68  US PRESIDENT   \n",
      "\n",
      "                    candidate              party_detailed writein  \\\n",
      "0               CARTER, JIMMY                    DEMOCRAT   False   \n",
      "1                FORD, GERALD                  REPUBLICAN   False   \n",
      "2              MADDOX, LESTER  AMERICAN INDEPENDENT PARTY   False   \n",
      "3     BUBAR, BENJAMIN \"\"BEN\"\"                 PROHIBITION   False   \n",
      "4                   HALL, GUS         COMMUNIST PARTY USE   False   \n",
      "...                       ...                         ...     ...   \n",
      "4282            JORGENSEN, JO                 LIBERTARIAN   False   \n",
      "4283            PIERCE, BROCK                 INDEPENDENT   False   \n",
      "4284                      NaN                         NaN    True   \n",
      "4285                OVERVOTES                         NaN   False   \n",
      "4286               UNDERVOTES                         NaN   False   \n",
      "\n",
      "      candidatevotes  totalvotes   version  notes party_simplified  \n",
      "0             659170     1182850  20210113    NaN         DEMOCRAT  \n",
      "1             504070     1182850  20210113    NaN       REPUBLICAN  \n",
      "2               9198     1182850  20210113    NaN            OTHER  \n",
      "3               6669     1182850  20210113    NaN            OTHER  \n",
      "4               1954     1182850  20210113    NaN            OTHER  \n",
      "...              ...         ...       ...    ...              ...  \n",
      "4282            5768      278503  20210113    NaN      LIBERTARIAN  \n",
      "4283            2208      278503  20210113    NaN            OTHER  \n",
      "4284            1739      278503  20210113    NaN            OTHER  \n",
      "4285             279      278503  20210113    NaN            OTHER  \n",
      "4286            1459      278503  20210113    NaN            OTHER  \n",
      "\n",
      "[4287 rows x 15 columns]\n"
     ]
    }
   ],
   "source": [
    "import pandas as pd\n",
    "with open(r'C:\\Users\\Dave\\Dropbox\\College\\Data in Emerging Media and Technologies\\1976-2020-president.csv') as d:\n",
    "    df = pd.read_csv(r\"C:\\Users\\Dave\\Dropbox\\College\\Data in Emerging Media and Technologies\\1976-2020-president.csv\")\n",
    "print(df)"
   ]
  },
  {
   "cell_type": "markdown",
   "id": "departmental-restoration",
   "metadata": {},
   "source": [
    "This analysis will involve preforming a historical analysis on the data in question to determine if there is a pattern between party wins."
   ]
  },
  {
   "cell_type": "code",
   "execution_count": 219,
   "id": "accompanied-turkish",
   "metadata": {},
   "outputs": [
    {
     "data": {
      "text/plain": [
       "Index(['year', 'state', 'state_po', 'state_fips', 'state_cen', 'state_ic',\n",
       "       'office', 'candidate', 'party_detailed', 'writein', 'candidatevotes',\n",
       "       'totalvotes', 'version', 'notes', 'party_simplified'],\n",
       "      dtype='object')"
      ]
     },
     "execution_count": 219,
     "metadata": {},
     "output_type": "execute_result"
    }
   ],
   "source": [
    "df.keys()"
   ]
  },
  {
   "cell_type": "markdown",
   "id": "classical-personality",
   "metadata": {},
   "source": [
    "We will exclude third party party candidates, as they does not pertain to core question. We shall consider percentage total votes for each party in each race from 1976 through 2020 using 8 year blocks, every two election cycles. We shall determine the controlling party via candidate vote totals nationally, excluding Bush v. Gore and Clinton v. Trump. In these cases, the controlling party of those elections shall be considered Republican."
   ]
  },
  {
   "cell_type": "code",
   "execution_count": 220,
   "id": "dental-authority",
   "metadata": {},
   "outputs": [],
   "source": [
    "candidates = df[(df['party_simplified'] == \"DEMOCRAT\") | (df['party_simplified'] == \"REPUBLICAN\") ]"
   ]
  },
  {
   "cell_type": "code",
   "execution_count": 221,
   "id": "sonic-lawyer",
   "metadata": {},
   "outputs": [
    {
     "data": {
      "text/html": [
       "<div>\n",
       "<style scoped>\n",
       "    .dataframe tbody tr th:only-of-type {\n",
       "        vertical-align: middle;\n",
       "    }\n",
       "\n",
       "    .dataframe tbody tr th {\n",
       "        vertical-align: top;\n",
       "    }\n",
       "\n",
       "    .dataframe thead th {\n",
       "        text-align: right;\n",
       "    }\n",
       "</style>\n",
       "<table border=\"1\" class=\"dataframe\">\n",
       "  <thead>\n",
       "    <tr style=\"text-align: right;\">\n",
       "      <th></th>\n",
       "      <th>year</th>\n",
       "      <th>state</th>\n",
       "      <th>state_po</th>\n",
       "      <th>state_fips</th>\n",
       "      <th>state_cen</th>\n",
       "      <th>state_ic</th>\n",
       "      <th>office</th>\n",
       "      <th>candidate</th>\n",
       "      <th>party_detailed</th>\n",
       "      <th>writein</th>\n",
       "      <th>candidatevotes</th>\n",
       "      <th>totalvotes</th>\n",
       "      <th>version</th>\n",
       "      <th>notes</th>\n",
       "      <th>party_simplified</th>\n",
       "    </tr>\n",
       "  </thead>\n",
       "  <tbody>\n",
       "    <tr>\n",
       "      <th>0</th>\n",
       "      <td>1976</td>\n",
       "      <td>ALABAMA</td>\n",
       "      <td>AL</td>\n",
       "      <td>1</td>\n",
       "      <td>63</td>\n",
       "      <td>41</td>\n",
       "      <td>US PRESIDENT</td>\n",
       "      <td>CARTER, JIMMY</td>\n",
       "      <td>DEMOCRAT</td>\n",
       "      <td>False</td>\n",
       "      <td>659170</td>\n",
       "      <td>1182850</td>\n",
       "      <td>20210113</td>\n",
       "      <td>NaN</td>\n",
       "      <td>DEMOCRAT</td>\n",
       "    </tr>\n",
       "    <tr>\n",
       "      <th>1</th>\n",
       "      <td>1976</td>\n",
       "      <td>ALABAMA</td>\n",
       "      <td>AL</td>\n",
       "      <td>1</td>\n",
       "      <td>63</td>\n",
       "      <td>41</td>\n",
       "      <td>US PRESIDENT</td>\n",
       "      <td>FORD, GERALD</td>\n",
       "      <td>REPUBLICAN</td>\n",
       "      <td>False</td>\n",
       "      <td>504070</td>\n",
       "      <td>1182850</td>\n",
       "      <td>20210113</td>\n",
       "      <td>NaN</td>\n",
       "      <td>REPUBLICAN</td>\n",
       "    </tr>\n",
       "    <tr>\n",
       "      <th>7</th>\n",
       "      <td>1976</td>\n",
       "      <td>ALASKA</td>\n",
       "      <td>AK</td>\n",
       "      <td>2</td>\n",
       "      <td>94</td>\n",
       "      <td>81</td>\n",
       "      <td>US PRESIDENT</td>\n",
       "      <td>FORD, GERALD</td>\n",
       "      <td>REPUBLICAN</td>\n",
       "      <td>False</td>\n",
       "      <td>71555</td>\n",
       "      <td>123574</td>\n",
       "      <td>20210113</td>\n",
       "      <td>NaN</td>\n",
       "      <td>REPUBLICAN</td>\n",
       "    </tr>\n",
       "    <tr>\n",
       "      <th>8</th>\n",
       "      <td>1976</td>\n",
       "      <td>ALASKA</td>\n",
       "      <td>AK</td>\n",
       "      <td>2</td>\n",
       "      <td>94</td>\n",
       "      <td>81</td>\n",
       "      <td>US PRESIDENT</td>\n",
       "      <td>CARTER, JIMMY</td>\n",
       "      <td>DEMOCRAT</td>\n",
       "      <td>False</td>\n",
       "      <td>44058</td>\n",
       "      <td>123574</td>\n",
       "      <td>20210113</td>\n",
       "      <td>NaN</td>\n",
       "      <td>DEMOCRAT</td>\n",
       "    </tr>\n",
       "    <tr>\n",
       "      <th>11</th>\n",
       "      <td>1976</td>\n",
       "      <td>ARIZONA</td>\n",
       "      <td>AZ</td>\n",
       "      <td>4</td>\n",
       "      <td>86</td>\n",
       "      <td>61</td>\n",
       "      <td>US PRESIDENT</td>\n",
       "      <td>FORD, GERALD</td>\n",
       "      <td>REPUBLICAN</td>\n",
       "      <td>False</td>\n",
       "      <td>418642</td>\n",
       "      <td>742719</td>\n",
       "      <td>20210113</td>\n",
       "      <td>NaN</td>\n",
       "      <td>REPUBLICAN</td>\n",
       "    </tr>\n",
       "    <tr>\n",
       "      <th>...</th>\n",
       "      <td>...</td>\n",
       "      <td>...</td>\n",
       "      <td>...</td>\n",
       "      <td>...</td>\n",
       "      <td>...</td>\n",
       "      <td>...</td>\n",
       "      <td>...</td>\n",
       "      <td>...</td>\n",
       "      <td>...</td>\n",
       "      <td>...</td>\n",
       "      <td>...</td>\n",
       "      <td>...</td>\n",
       "      <td>...</td>\n",
       "      <td>...</td>\n",
       "      <td>...</td>\n",
       "    </tr>\n",
       "    <tr>\n",
       "      <th>4264</th>\n",
       "      <td>2020</td>\n",
       "      <td>WEST VIRGINIA</td>\n",
       "      <td>WV</td>\n",
       "      <td>54</td>\n",
       "      <td>55</td>\n",
       "      <td>56</td>\n",
       "      <td>US PRESIDENT</td>\n",
       "      <td>TRUMP, DONALD J.</td>\n",
       "      <td>REPUBLICAN</td>\n",
       "      <td>False</td>\n",
       "      <td>545382</td>\n",
       "      <td>794652</td>\n",
       "      <td>20210113</td>\n",
       "      <td>NaN</td>\n",
       "      <td>REPUBLICAN</td>\n",
       "    </tr>\n",
       "    <tr>\n",
       "      <th>4267</th>\n",
       "      <td>2020</td>\n",
       "      <td>WISCONSIN</td>\n",
       "      <td>WI</td>\n",
       "      <td>55</td>\n",
       "      <td>35</td>\n",
       "      <td>25</td>\n",
       "      <td>US PRESIDENT</td>\n",
       "      <td>BIDEN, JOSEPH R. JR</td>\n",
       "      <td>DEMOCRAT</td>\n",
       "      <td>False</td>\n",
       "      <td>1630866</td>\n",
       "      <td>3298041</td>\n",
       "      <td>20210113</td>\n",
       "      <td>NaN</td>\n",
       "      <td>DEMOCRAT</td>\n",
       "    </tr>\n",
       "    <tr>\n",
       "      <th>4268</th>\n",
       "      <td>2020</td>\n",
       "      <td>WISCONSIN</td>\n",
       "      <td>WI</td>\n",
       "      <td>55</td>\n",
       "      <td>35</td>\n",
       "      <td>25</td>\n",
       "      <td>US PRESIDENT</td>\n",
       "      <td>TRUMP, DONALD J.</td>\n",
       "      <td>REPUBLICAN</td>\n",
       "      <td>False</td>\n",
       "      <td>1610184</td>\n",
       "      <td>3298041</td>\n",
       "      <td>20210113</td>\n",
       "      <td>NaN</td>\n",
       "      <td>REPUBLICAN</td>\n",
       "    </tr>\n",
       "    <tr>\n",
       "      <th>4280</th>\n",
       "      <td>2020</td>\n",
       "      <td>WYOMING</td>\n",
       "      <td>WY</td>\n",
       "      <td>56</td>\n",
       "      <td>83</td>\n",
       "      <td>68</td>\n",
       "      <td>US PRESIDENT</td>\n",
       "      <td>BIDEN, JOSEPH R. JR</td>\n",
       "      <td>DEMOCRAT</td>\n",
       "      <td>False</td>\n",
       "      <td>73491</td>\n",
       "      <td>278503</td>\n",
       "      <td>20210113</td>\n",
       "      <td>NaN</td>\n",
       "      <td>DEMOCRAT</td>\n",
       "    </tr>\n",
       "    <tr>\n",
       "      <th>4281</th>\n",
       "      <td>2020</td>\n",
       "      <td>WYOMING</td>\n",
       "      <td>WY</td>\n",
       "      <td>56</td>\n",
       "      <td>83</td>\n",
       "      <td>68</td>\n",
       "      <td>US PRESIDENT</td>\n",
       "      <td>TRUMP, DONALD J.</td>\n",
       "      <td>REPUBLICAN</td>\n",
       "      <td>False</td>\n",
       "      <td>193559</td>\n",
       "      <td>278503</td>\n",
       "      <td>20210113</td>\n",
       "      <td>NaN</td>\n",
       "      <td>REPUBLICAN</td>\n",
       "    </tr>\n",
       "  </tbody>\n",
       "</table>\n",
       "<p>1228 rows × 15 columns</p>\n",
       "</div>"
      ],
      "text/plain": [
       "      year          state state_po  state_fips  state_cen  state_ic  \\\n",
       "0     1976        ALABAMA       AL           1         63        41   \n",
       "1     1976        ALABAMA       AL           1         63        41   \n",
       "7     1976         ALASKA       AK           2         94        81   \n",
       "8     1976         ALASKA       AK           2         94        81   \n",
       "11    1976        ARIZONA       AZ           4         86        61   \n",
       "...    ...            ...      ...         ...        ...       ...   \n",
       "4264  2020  WEST VIRGINIA       WV          54         55        56   \n",
       "4267  2020      WISCONSIN       WI          55         35        25   \n",
       "4268  2020      WISCONSIN       WI          55         35        25   \n",
       "4280  2020        WYOMING       WY          56         83        68   \n",
       "4281  2020        WYOMING       WY          56         83        68   \n",
       "\n",
       "            office            candidate party_detailed writein  \\\n",
       "0     US PRESIDENT        CARTER, JIMMY       DEMOCRAT   False   \n",
       "1     US PRESIDENT         FORD, GERALD     REPUBLICAN   False   \n",
       "7     US PRESIDENT         FORD, GERALD     REPUBLICAN   False   \n",
       "8     US PRESIDENT        CARTER, JIMMY       DEMOCRAT   False   \n",
       "11    US PRESIDENT         FORD, GERALD     REPUBLICAN   False   \n",
       "...            ...                  ...            ...     ...   \n",
       "4264  US PRESIDENT     TRUMP, DONALD J.     REPUBLICAN   False   \n",
       "4267  US PRESIDENT  BIDEN, JOSEPH R. JR       DEMOCRAT   False   \n",
       "4268  US PRESIDENT     TRUMP, DONALD J.     REPUBLICAN   False   \n",
       "4280  US PRESIDENT  BIDEN, JOSEPH R. JR       DEMOCRAT   False   \n",
       "4281  US PRESIDENT     TRUMP, DONALD J.     REPUBLICAN   False   \n",
       "\n",
       "      candidatevotes  totalvotes   version  notes party_simplified  \n",
       "0             659170     1182850  20210113    NaN         DEMOCRAT  \n",
       "1             504070     1182850  20210113    NaN       REPUBLICAN  \n",
       "7              71555      123574  20210113    NaN       REPUBLICAN  \n",
       "8              44058      123574  20210113    NaN         DEMOCRAT  \n",
       "11            418642      742719  20210113    NaN       REPUBLICAN  \n",
       "...              ...         ...       ...    ...              ...  \n",
       "4264          545382      794652  20210113    NaN       REPUBLICAN  \n",
       "4267         1630866     3298041  20210113    NaN         DEMOCRAT  \n",
       "4268         1610184     3298041  20210113    NaN       REPUBLICAN  \n",
       "4280           73491      278503  20210113    NaN         DEMOCRAT  \n",
       "4281          193559      278503  20210113    NaN       REPUBLICAN  \n",
       "\n",
       "[1228 rows x 15 columns]"
      ]
     },
     "execution_count": 221,
     "metadata": {},
     "output_type": "execute_result"
    }
   ],
   "source": [
    "candidates"
   ]
  },
  {
   "cell_type": "code",
   "execution_count": 222,
   "id": "thorough-premiere",
   "metadata": {},
   "outputs": [
    {
     "name": "stderr",
     "output_type": "stream",
     "text": [
      "<ipython-input-222-a4ae0a52de8a>:1: SettingWithCopyWarning: \n",
      "A value is trying to be set on a copy of a slice from a DataFrame.\n",
      "Try using .loc[row_indexer,col_indexer] = value instead\n",
      "\n",
      "See the caveats in the documentation: https://pandas.pydata.org/pandas-docs/stable/user_guide/indexing.html#returning-a-view-versus-a-copy\n",
      "  candidates['state_vote_split'] = df['candidatevotes'] / df['totalvotes'] * 100\n"
     ]
    }
   ],
   "source": [
    "candidates['state_vote_split'] = df['candidatevotes'] / df['totalvotes'] * 100"
   ]
  },
  {
   "cell_type": "code",
   "execution_count": 223,
   "id": "higher-sleeve",
   "metadata": {},
   "outputs": [
    {
     "data": {
      "text/plain": [
       "659170"
      ]
     },
     "execution_count": 223,
     "metadata": {},
     "output_type": "execute_result"
    }
   ],
   "source": [
    "df['candidatevotes'][0]"
   ]
  },
  {
   "cell_type": "code",
   "execution_count": 224,
   "id": "accepting-multiple",
   "metadata": {},
   "outputs": [
    {
     "data": {
      "text/plain": [
       "0       55.727269\n",
       "1       42.614871\n",
       "7       57.904575\n",
       "8       35.653131\n",
       "11      56.366136\n",
       "          ...    \n",
       "4264    68.631552\n",
       "4267    49.449537\n",
       "4268    48.822437\n",
       "4280    26.387867\n",
       "4281    69.499790\n",
       "Name: state_vote_split, Length: 1228, dtype: float64"
      ]
     },
     "execution_count": 224,
     "metadata": {},
     "output_type": "execute_result"
    }
   ],
   "source": [
    "candidates['state_vote_split']"
   ]
  },
  {
   "cell_type": "code",
   "execution_count": 225,
   "id": "monthly-measure",
   "metadata": {},
   "outputs": [
    {
     "data": {
      "text/html": [
       "<div>\n",
       "<style scoped>\n",
       "    .dataframe tbody tr th:only-of-type {\n",
       "        vertical-align: middle;\n",
       "    }\n",
       "\n",
       "    .dataframe tbody tr th {\n",
       "        vertical-align: top;\n",
       "    }\n",
       "\n",
       "    .dataframe thead th {\n",
       "        text-align: right;\n",
       "    }\n",
       "</style>\n",
       "<table border=\"1\" class=\"dataframe\">\n",
       "  <thead>\n",
       "    <tr style=\"text-align: right;\">\n",
       "      <th></th>\n",
       "      <th>year</th>\n",
       "      <th>state</th>\n",
       "      <th>state_po</th>\n",
       "      <th>state_fips</th>\n",
       "      <th>state_cen</th>\n",
       "      <th>state_ic</th>\n",
       "      <th>office</th>\n",
       "      <th>candidate</th>\n",
       "      <th>party_detailed</th>\n",
       "      <th>writein</th>\n",
       "      <th>candidatevotes</th>\n",
       "      <th>totalvotes</th>\n",
       "      <th>version</th>\n",
       "      <th>notes</th>\n",
       "      <th>party_simplified</th>\n",
       "      <th>state_vote_split</th>\n",
       "    </tr>\n",
       "  </thead>\n",
       "  <tbody>\n",
       "    <tr>\n",
       "      <th>0</th>\n",
       "      <td>1976</td>\n",
       "      <td>ALABAMA</td>\n",
       "      <td>AL</td>\n",
       "      <td>1</td>\n",
       "      <td>63</td>\n",
       "      <td>41</td>\n",
       "      <td>US PRESIDENT</td>\n",
       "      <td>CARTER, JIMMY</td>\n",
       "      <td>DEMOCRAT</td>\n",
       "      <td>False</td>\n",
       "      <td>659170</td>\n",
       "      <td>1182850</td>\n",
       "      <td>20210113</td>\n",
       "      <td>NaN</td>\n",
       "      <td>DEMOCRAT</td>\n",
       "      <td>55.727269</td>\n",
       "    </tr>\n",
       "    <tr>\n",
       "      <th>1</th>\n",
       "      <td>1976</td>\n",
       "      <td>ALABAMA</td>\n",
       "      <td>AL</td>\n",
       "      <td>1</td>\n",
       "      <td>63</td>\n",
       "      <td>41</td>\n",
       "      <td>US PRESIDENT</td>\n",
       "      <td>FORD, GERALD</td>\n",
       "      <td>REPUBLICAN</td>\n",
       "      <td>False</td>\n",
       "      <td>504070</td>\n",
       "      <td>1182850</td>\n",
       "      <td>20210113</td>\n",
       "      <td>NaN</td>\n",
       "      <td>REPUBLICAN</td>\n",
       "      <td>42.614871</td>\n",
       "    </tr>\n",
       "    <tr>\n",
       "      <th>7</th>\n",
       "      <td>1976</td>\n",
       "      <td>ALASKA</td>\n",
       "      <td>AK</td>\n",
       "      <td>2</td>\n",
       "      <td>94</td>\n",
       "      <td>81</td>\n",
       "      <td>US PRESIDENT</td>\n",
       "      <td>FORD, GERALD</td>\n",
       "      <td>REPUBLICAN</td>\n",
       "      <td>False</td>\n",
       "      <td>71555</td>\n",
       "      <td>123574</td>\n",
       "      <td>20210113</td>\n",
       "      <td>NaN</td>\n",
       "      <td>REPUBLICAN</td>\n",
       "      <td>57.904575</td>\n",
       "    </tr>\n",
       "    <tr>\n",
       "      <th>8</th>\n",
       "      <td>1976</td>\n",
       "      <td>ALASKA</td>\n",
       "      <td>AK</td>\n",
       "      <td>2</td>\n",
       "      <td>94</td>\n",
       "      <td>81</td>\n",
       "      <td>US PRESIDENT</td>\n",
       "      <td>CARTER, JIMMY</td>\n",
       "      <td>DEMOCRAT</td>\n",
       "      <td>False</td>\n",
       "      <td>44058</td>\n",
       "      <td>123574</td>\n",
       "      <td>20210113</td>\n",
       "      <td>NaN</td>\n",
       "      <td>DEMOCRAT</td>\n",
       "      <td>35.653131</td>\n",
       "    </tr>\n",
       "    <tr>\n",
       "      <th>11</th>\n",
       "      <td>1976</td>\n",
       "      <td>ARIZONA</td>\n",
       "      <td>AZ</td>\n",
       "      <td>4</td>\n",
       "      <td>86</td>\n",
       "      <td>61</td>\n",
       "      <td>US PRESIDENT</td>\n",
       "      <td>FORD, GERALD</td>\n",
       "      <td>REPUBLICAN</td>\n",
       "      <td>False</td>\n",
       "      <td>418642</td>\n",
       "      <td>742719</td>\n",
       "      <td>20210113</td>\n",
       "      <td>NaN</td>\n",
       "      <td>REPUBLICAN</td>\n",
       "      <td>56.366136</td>\n",
       "    </tr>\n",
       "    <tr>\n",
       "      <th>...</th>\n",
       "      <td>...</td>\n",
       "      <td>...</td>\n",
       "      <td>...</td>\n",
       "      <td>...</td>\n",
       "      <td>...</td>\n",
       "      <td>...</td>\n",
       "      <td>...</td>\n",
       "      <td>...</td>\n",
       "      <td>...</td>\n",
       "      <td>...</td>\n",
       "      <td>...</td>\n",
       "      <td>...</td>\n",
       "      <td>...</td>\n",
       "      <td>...</td>\n",
       "      <td>...</td>\n",
       "      <td>...</td>\n",
       "    </tr>\n",
       "    <tr>\n",
       "      <th>4264</th>\n",
       "      <td>2020</td>\n",
       "      <td>WEST VIRGINIA</td>\n",
       "      <td>WV</td>\n",
       "      <td>54</td>\n",
       "      <td>55</td>\n",
       "      <td>56</td>\n",
       "      <td>US PRESIDENT</td>\n",
       "      <td>TRUMP, DONALD J.</td>\n",
       "      <td>REPUBLICAN</td>\n",
       "      <td>False</td>\n",
       "      <td>545382</td>\n",
       "      <td>794652</td>\n",
       "      <td>20210113</td>\n",
       "      <td>NaN</td>\n",
       "      <td>REPUBLICAN</td>\n",
       "      <td>68.631552</td>\n",
       "    </tr>\n",
       "    <tr>\n",
       "      <th>4267</th>\n",
       "      <td>2020</td>\n",
       "      <td>WISCONSIN</td>\n",
       "      <td>WI</td>\n",
       "      <td>55</td>\n",
       "      <td>35</td>\n",
       "      <td>25</td>\n",
       "      <td>US PRESIDENT</td>\n",
       "      <td>BIDEN, JOSEPH R. JR</td>\n",
       "      <td>DEMOCRAT</td>\n",
       "      <td>False</td>\n",
       "      <td>1630866</td>\n",
       "      <td>3298041</td>\n",
       "      <td>20210113</td>\n",
       "      <td>NaN</td>\n",
       "      <td>DEMOCRAT</td>\n",
       "      <td>49.449537</td>\n",
       "    </tr>\n",
       "    <tr>\n",
       "      <th>4268</th>\n",
       "      <td>2020</td>\n",
       "      <td>WISCONSIN</td>\n",
       "      <td>WI</td>\n",
       "      <td>55</td>\n",
       "      <td>35</td>\n",
       "      <td>25</td>\n",
       "      <td>US PRESIDENT</td>\n",
       "      <td>TRUMP, DONALD J.</td>\n",
       "      <td>REPUBLICAN</td>\n",
       "      <td>False</td>\n",
       "      <td>1610184</td>\n",
       "      <td>3298041</td>\n",
       "      <td>20210113</td>\n",
       "      <td>NaN</td>\n",
       "      <td>REPUBLICAN</td>\n",
       "      <td>48.822437</td>\n",
       "    </tr>\n",
       "    <tr>\n",
       "      <th>4280</th>\n",
       "      <td>2020</td>\n",
       "      <td>WYOMING</td>\n",
       "      <td>WY</td>\n",
       "      <td>56</td>\n",
       "      <td>83</td>\n",
       "      <td>68</td>\n",
       "      <td>US PRESIDENT</td>\n",
       "      <td>BIDEN, JOSEPH R. JR</td>\n",
       "      <td>DEMOCRAT</td>\n",
       "      <td>False</td>\n",
       "      <td>73491</td>\n",
       "      <td>278503</td>\n",
       "      <td>20210113</td>\n",
       "      <td>NaN</td>\n",
       "      <td>DEMOCRAT</td>\n",
       "      <td>26.387867</td>\n",
       "    </tr>\n",
       "    <tr>\n",
       "      <th>4281</th>\n",
       "      <td>2020</td>\n",
       "      <td>WYOMING</td>\n",
       "      <td>WY</td>\n",
       "      <td>56</td>\n",
       "      <td>83</td>\n",
       "      <td>68</td>\n",
       "      <td>US PRESIDENT</td>\n",
       "      <td>TRUMP, DONALD J.</td>\n",
       "      <td>REPUBLICAN</td>\n",
       "      <td>False</td>\n",
       "      <td>193559</td>\n",
       "      <td>278503</td>\n",
       "      <td>20210113</td>\n",
       "      <td>NaN</td>\n",
       "      <td>REPUBLICAN</td>\n",
       "      <td>69.499790</td>\n",
       "    </tr>\n",
       "  </tbody>\n",
       "</table>\n",
       "<p>1228 rows × 16 columns</p>\n",
       "</div>"
      ],
      "text/plain": [
       "      year          state state_po  state_fips  state_cen  state_ic  \\\n",
       "0     1976        ALABAMA       AL           1         63        41   \n",
       "1     1976        ALABAMA       AL           1         63        41   \n",
       "7     1976         ALASKA       AK           2         94        81   \n",
       "8     1976         ALASKA       AK           2         94        81   \n",
       "11    1976        ARIZONA       AZ           4         86        61   \n",
       "...    ...            ...      ...         ...        ...       ...   \n",
       "4264  2020  WEST VIRGINIA       WV          54         55        56   \n",
       "4267  2020      WISCONSIN       WI          55         35        25   \n",
       "4268  2020      WISCONSIN       WI          55         35        25   \n",
       "4280  2020        WYOMING       WY          56         83        68   \n",
       "4281  2020        WYOMING       WY          56         83        68   \n",
       "\n",
       "            office            candidate party_detailed writein  \\\n",
       "0     US PRESIDENT        CARTER, JIMMY       DEMOCRAT   False   \n",
       "1     US PRESIDENT         FORD, GERALD     REPUBLICAN   False   \n",
       "7     US PRESIDENT         FORD, GERALD     REPUBLICAN   False   \n",
       "8     US PRESIDENT        CARTER, JIMMY       DEMOCRAT   False   \n",
       "11    US PRESIDENT         FORD, GERALD     REPUBLICAN   False   \n",
       "...            ...                  ...            ...     ...   \n",
       "4264  US PRESIDENT     TRUMP, DONALD J.     REPUBLICAN   False   \n",
       "4267  US PRESIDENT  BIDEN, JOSEPH R. JR       DEMOCRAT   False   \n",
       "4268  US PRESIDENT     TRUMP, DONALD J.     REPUBLICAN   False   \n",
       "4280  US PRESIDENT  BIDEN, JOSEPH R. JR       DEMOCRAT   False   \n",
       "4281  US PRESIDENT     TRUMP, DONALD J.     REPUBLICAN   False   \n",
       "\n",
       "      candidatevotes  totalvotes   version  notes party_simplified  \\\n",
       "0             659170     1182850  20210113    NaN         DEMOCRAT   \n",
       "1             504070     1182850  20210113    NaN       REPUBLICAN   \n",
       "7              71555      123574  20210113    NaN       REPUBLICAN   \n",
       "8              44058      123574  20210113    NaN         DEMOCRAT   \n",
       "11            418642      742719  20210113    NaN       REPUBLICAN   \n",
       "...              ...         ...       ...    ...              ...   \n",
       "4264          545382      794652  20210113    NaN       REPUBLICAN   \n",
       "4267         1630866     3298041  20210113    NaN         DEMOCRAT   \n",
       "4268         1610184     3298041  20210113    NaN       REPUBLICAN   \n",
       "4280           73491      278503  20210113    NaN         DEMOCRAT   \n",
       "4281          193559      278503  20210113    NaN       REPUBLICAN   \n",
       "\n",
       "      state_vote_split  \n",
       "0            55.727269  \n",
       "1            42.614871  \n",
       "7            57.904575  \n",
       "8            35.653131  \n",
       "11           56.366136  \n",
       "...                ...  \n",
       "4264         68.631552  \n",
       "4267         49.449537  \n",
       "4268         48.822437  \n",
       "4280         26.387867  \n",
       "4281         69.499790  \n",
       "\n",
       "[1228 rows x 16 columns]"
      ]
     },
     "execution_count": 225,
     "metadata": {},
     "output_type": "execute_result"
    }
   ],
   "source": [
    "candidates"
   ]
  },
  {
   "cell_type": "code",
   "execution_count": 226,
   "id": "bright-danish",
   "metadata": {},
   "outputs": [
    {
     "data": {
      "text/html": [
       "<div>\n",
       "<style scoped>\n",
       "    .dataframe tbody tr th:only-of-type {\n",
       "        vertical-align: middle;\n",
       "    }\n",
       "\n",
       "    .dataframe tbody tr th {\n",
       "        vertical-align: top;\n",
       "    }\n",
       "\n",
       "    .dataframe thead th {\n",
       "        text-align: right;\n",
       "    }\n",
       "</style>\n",
       "<table border=\"1\" class=\"dataframe\">\n",
       "  <thead>\n",
       "    <tr style=\"text-align: right;\">\n",
       "      <th></th>\n",
       "      <th>year</th>\n",
       "      <th>state</th>\n",
       "      <th>state_po</th>\n",
       "      <th>state_fips</th>\n",
       "      <th>state_cen</th>\n",
       "      <th>state_ic</th>\n",
       "      <th>office</th>\n",
       "      <th>candidate</th>\n",
       "      <th>party_detailed</th>\n",
       "      <th>writein</th>\n",
       "      <th>candidatevotes</th>\n",
       "      <th>totalvotes</th>\n",
       "      <th>version</th>\n",
       "      <th>notes</th>\n",
       "      <th>party_simplified</th>\n",
       "      <th>state_vote_split</th>\n",
       "    </tr>\n",
       "  </thead>\n",
       "  <tbody>\n",
       "    <tr>\n",
       "      <th>0</th>\n",
       "      <td>1976</td>\n",
       "      <td>ALABAMA</td>\n",
       "      <td>AL</td>\n",
       "      <td>1</td>\n",
       "      <td>63</td>\n",
       "      <td>41</td>\n",
       "      <td>US PRESIDENT</td>\n",
       "      <td>CARTER, JIMMY</td>\n",
       "      <td>DEMOCRAT</td>\n",
       "      <td>False</td>\n",
       "      <td>659170</td>\n",
       "      <td>1182850</td>\n",
       "      <td>20210113</td>\n",
       "      <td>NaN</td>\n",
       "      <td>DEMOCRAT</td>\n",
       "      <td>55.727269</td>\n",
       "    </tr>\n",
       "    <tr>\n",
       "      <th>1</th>\n",
       "      <td>1976</td>\n",
       "      <td>ALABAMA</td>\n",
       "      <td>AL</td>\n",
       "      <td>1</td>\n",
       "      <td>63</td>\n",
       "      <td>41</td>\n",
       "      <td>US PRESIDENT</td>\n",
       "      <td>FORD, GERALD</td>\n",
       "      <td>REPUBLICAN</td>\n",
       "      <td>False</td>\n",
       "      <td>504070</td>\n",
       "      <td>1182850</td>\n",
       "      <td>20210113</td>\n",
       "      <td>NaN</td>\n",
       "      <td>REPUBLICAN</td>\n",
       "      <td>42.614871</td>\n",
       "    </tr>\n",
       "    <tr>\n",
       "      <th>7</th>\n",
       "      <td>1976</td>\n",
       "      <td>ALASKA</td>\n",
       "      <td>AK</td>\n",
       "      <td>2</td>\n",
       "      <td>94</td>\n",
       "      <td>81</td>\n",
       "      <td>US PRESIDENT</td>\n",
       "      <td>FORD, GERALD</td>\n",
       "      <td>REPUBLICAN</td>\n",
       "      <td>False</td>\n",
       "      <td>71555</td>\n",
       "      <td>123574</td>\n",
       "      <td>20210113</td>\n",
       "      <td>NaN</td>\n",
       "      <td>REPUBLICAN</td>\n",
       "      <td>57.904575</td>\n",
       "    </tr>\n",
       "    <tr>\n",
       "      <th>8</th>\n",
       "      <td>1976</td>\n",
       "      <td>ALASKA</td>\n",
       "      <td>AK</td>\n",
       "      <td>2</td>\n",
       "      <td>94</td>\n",
       "      <td>81</td>\n",
       "      <td>US PRESIDENT</td>\n",
       "      <td>CARTER, JIMMY</td>\n",
       "      <td>DEMOCRAT</td>\n",
       "      <td>False</td>\n",
       "      <td>44058</td>\n",
       "      <td>123574</td>\n",
       "      <td>20210113</td>\n",
       "      <td>NaN</td>\n",
       "      <td>DEMOCRAT</td>\n",
       "      <td>35.653131</td>\n",
       "    </tr>\n",
       "    <tr>\n",
       "      <th>11</th>\n",
       "      <td>1976</td>\n",
       "      <td>ARIZONA</td>\n",
       "      <td>AZ</td>\n",
       "      <td>4</td>\n",
       "      <td>86</td>\n",
       "      <td>61</td>\n",
       "      <td>US PRESIDENT</td>\n",
       "      <td>FORD, GERALD</td>\n",
       "      <td>REPUBLICAN</td>\n",
       "      <td>False</td>\n",
       "      <td>418642</td>\n",
       "      <td>742719</td>\n",
       "      <td>20210113</td>\n",
       "      <td>NaN</td>\n",
       "      <td>REPUBLICAN</td>\n",
       "      <td>56.366136</td>\n",
       "    </tr>\n",
       "    <tr>\n",
       "      <th>12</th>\n",
       "      <td>1976</td>\n",
       "      <td>ARIZONA</td>\n",
       "      <td>AZ</td>\n",
       "      <td>4</td>\n",
       "      <td>86</td>\n",
       "      <td>61</td>\n",
       "      <td>US PRESIDENT</td>\n",
       "      <td>CARTER, JIMMY</td>\n",
       "      <td>DEMOCRAT</td>\n",
       "      <td>False</td>\n",
       "      <td>295602</td>\n",
       "      <td>742719</td>\n",
       "      <td>20210113</td>\n",
       "      <td>NaN</td>\n",
       "      <td>DEMOCRAT</td>\n",
       "      <td>39.799978</td>\n",
       "    </tr>\n",
       "    <tr>\n",
       "      <th>19</th>\n",
       "      <td>1976</td>\n",
       "      <td>ARKANSAS</td>\n",
       "      <td>AR</td>\n",
       "      <td>5</td>\n",
       "      <td>71</td>\n",
       "      <td>42</td>\n",
       "      <td>US PRESIDENT</td>\n",
       "      <td>CARTER, JIMMY</td>\n",
       "      <td>DEMOCRAT</td>\n",
       "      <td>False</td>\n",
       "      <td>498604</td>\n",
       "      <td>767535</td>\n",
       "      <td>20210113</td>\n",
       "      <td>NaN</td>\n",
       "      <td>DEMOCRAT</td>\n",
       "      <td>64.961728</td>\n",
       "    </tr>\n",
       "    <tr>\n",
       "      <th>20</th>\n",
       "      <td>1976</td>\n",
       "      <td>ARKANSAS</td>\n",
       "      <td>AR</td>\n",
       "      <td>5</td>\n",
       "      <td>71</td>\n",
       "      <td>42</td>\n",
       "      <td>US PRESIDENT</td>\n",
       "      <td>FORD, GERALD</td>\n",
       "      <td>REPUBLICAN</td>\n",
       "      <td>False</td>\n",
       "      <td>267903</td>\n",
       "      <td>767535</td>\n",
       "      <td>20210113</td>\n",
       "      <td>NaN</td>\n",
       "      <td>REPUBLICAN</td>\n",
       "      <td>34.904337</td>\n",
       "    </tr>\n",
       "    <tr>\n",
       "      <th>23</th>\n",
       "      <td>1976</td>\n",
       "      <td>CALIFORNIA</td>\n",
       "      <td>CA</td>\n",
       "      <td>6</td>\n",
       "      <td>93</td>\n",
       "      <td>71</td>\n",
       "      <td>US PRESIDENT</td>\n",
       "      <td>FORD, GERALD</td>\n",
       "      <td>REPUBLICAN</td>\n",
       "      <td>False</td>\n",
       "      <td>3882244</td>\n",
       "      <td>7803770</td>\n",
       "      <td>20210113</td>\n",
       "      <td>NaN</td>\n",
       "      <td>REPUBLICAN</td>\n",
       "      <td>49.748314</td>\n",
       "    </tr>\n",
       "    <tr>\n",
       "      <th>24</th>\n",
       "      <td>1976</td>\n",
       "      <td>CALIFORNIA</td>\n",
       "      <td>CA</td>\n",
       "      <td>6</td>\n",
       "      <td>93</td>\n",
       "      <td>71</td>\n",
       "      <td>US PRESIDENT</td>\n",
       "      <td>CARTER, JIMMY</td>\n",
       "      <td>DEMOCRAT</td>\n",
       "      <td>False</td>\n",
       "      <td>3742284</td>\n",
       "      <td>7803770</td>\n",
       "      <td>20210113</td>\n",
       "      <td>NaN</td>\n",
       "      <td>DEMOCRAT</td>\n",
       "      <td>47.954822</td>\n",
       "    </tr>\n",
       "  </tbody>\n",
       "</table>\n",
       "</div>"
      ],
      "text/plain": [
       "    year       state state_po  state_fips  state_cen  state_ic        office  \\\n",
       "0   1976     ALABAMA       AL           1         63        41  US PRESIDENT   \n",
       "1   1976     ALABAMA       AL           1         63        41  US PRESIDENT   \n",
       "7   1976      ALASKA       AK           2         94        81  US PRESIDENT   \n",
       "8   1976      ALASKA       AK           2         94        81  US PRESIDENT   \n",
       "11  1976     ARIZONA       AZ           4         86        61  US PRESIDENT   \n",
       "12  1976     ARIZONA       AZ           4         86        61  US PRESIDENT   \n",
       "19  1976    ARKANSAS       AR           5         71        42  US PRESIDENT   \n",
       "20  1976    ARKANSAS       AR           5         71        42  US PRESIDENT   \n",
       "23  1976  CALIFORNIA       CA           6         93        71  US PRESIDENT   \n",
       "24  1976  CALIFORNIA       CA           6         93        71  US PRESIDENT   \n",
       "\n",
       "        candidate party_detailed writein  candidatevotes  totalvotes  \\\n",
       "0   CARTER, JIMMY       DEMOCRAT   False          659170     1182850   \n",
       "1    FORD, GERALD     REPUBLICAN   False          504070     1182850   \n",
       "7    FORD, GERALD     REPUBLICAN   False           71555      123574   \n",
       "8   CARTER, JIMMY       DEMOCRAT   False           44058      123574   \n",
       "11   FORD, GERALD     REPUBLICAN   False          418642      742719   \n",
       "12  CARTER, JIMMY       DEMOCRAT   False          295602      742719   \n",
       "19  CARTER, JIMMY       DEMOCRAT   False          498604      767535   \n",
       "20   FORD, GERALD     REPUBLICAN   False          267903      767535   \n",
       "23   FORD, GERALD     REPUBLICAN   False         3882244     7803770   \n",
       "24  CARTER, JIMMY       DEMOCRAT   False         3742284     7803770   \n",
       "\n",
       "     version  notes party_simplified  state_vote_split  \n",
       "0   20210113    NaN         DEMOCRAT         55.727269  \n",
       "1   20210113    NaN       REPUBLICAN         42.614871  \n",
       "7   20210113    NaN       REPUBLICAN         57.904575  \n",
       "8   20210113    NaN         DEMOCRAT         35.653131  \n",
       "11  20210113    NaN       REPUBLICAN         56.366136  \n",
       "12  20210113    NaN         DEMOCRAT         39.799978  \n",
       "19  20210113    NaN         DEMOCRAT         64.961728  \n",
       "20  20210113    NaN       REPUBLICAN         34.904337  \n",
       "23  20210113    NaN       REPUBLICAN         49.748314  \n",
       "24  20210113    NaN         DEMOCRAT         47.954822  "
      ]
     },
     "execution_count": 226,
     "metadata": {},
     "output_type": "execute_result"
    }
   ],
   "source": [
    "candidates.head(10)"
   ]
  },
  {
   "cell_type": "markdown",
   "id": "linear-aruba",
   "metadata": {},
   "source": [
    "Here we will start calculating vote percentages by party, by state."
   ]
  },
  {
   "cell_type": "code",
   "execution_count": 227,
   "id": "front-washington",
   "metadata": {},
   "outputs": [],
   "source": [
    "candidates_1976 = candidates[(candidates['year'] == 1976)]"
   ]
  },
  {
   "cell_type": "code",
   "execution_count": 228,
   "id": "fancy-freeware",
   "metadata": {},
   "outputs": [
    {
     "data": {
      "text/plain": [
       "48.32772179480301"
      ]
     },
     "execution_count": 228,
     "metadata": {},
     "output_type": "execute_result"
    }
   ],
   "source": [
    "candidates_1976[candidates_1976['party_simplified'] == \"REPUBLICAN\"].mean(axis = 0).state_vote_split"
   ]
  },
  {
   "cell_type": "code",
   "execution_count": 229,
   "id": "accompanied-identity",
   "metadata": {},
   "outputs": [
    {
     "data": {
      "text/plain": [
       "49.4977841376252"
      ]
     },
     "execution_count": 229,
     "metadata": {},
     "output_type": "execute_result"
    }
   ],
   "source": [
    "candidates_1976[candidates_1976['party_simplified'] == \"DEMOCRAT\"].mean(axis = 0).state_vote_split"
   ]
  },
  {
   "cell_type": "code",
   "execution_count": 230,
   "id": "arranged-attempt",
   "metadata": {},
   "outputs": [],
   "source": [
    "candidates_1980 = candidates[(candidates['year'] == 1980)]"
   ]
  },
  {
   "cell_type": "code",
   "execution_count": 231,
   "id": "first-daughter",
   "metadata": {},
   "outputs": [
    {
     "data": {
      "text/plain": [
       "51.30810965849188"
      ]
     },
     "execution_count": 231,
     "metadata": {},
     "output_type": "execute_result"
    }
   ],
   "source": [
    "candidates_1980[candidates_1980['party_simplified'] == \"REPUBLICAN\"].mean(axis = 0).state_vote_split"
   ]
  },
  {
   "cell_type": "code",
   "execution_count": 232,
   "id": "cardiac-donor",
   "metadata": {},
   "outputs": [
    {
     "data": {
      "text/plain": [
       "39.911074852242294"
      ]
     },
     "execution_count": 232,
     "metadata": {},
     "output_type": "execute_result"
    }
   ],
   "source": [
    "candidates_1980[candidates_1980['party_simplified'] == \"DEMOCRAT\"].mean(axis = 0).state_vote_split"
   ]
  },
  {
   "cell_type": "code",
   "execution_count": 233,
   "id": "subject-hostel",
   "metadata": {},
   "outputs": [],
   "source": [
    "candidates_1988 = candidates[(candidates['year'] == 1988)]"
   ]
  },
  {
   "cell_type": "code",
   "execution_count": 234,
   "id": "standard-albania",
   "metadata": {},
   "outputs": [
    {
     "data": {
      "text/plain": [
       "53.66259744484452"
      ]
     },
     "execution_count": 234,
     "metadata": {},
     "output_type": "execute_result"
    }
   ],
   "source": [
    "candidates_1988[candidates_1988['party_simplified'] == \"REPUBLICAN\"].mean(axis = 0).state_vote_split"
   ]
  },
  {
   "cell_type": "code",
   "execution_count": 235,
   "id": "initial-addition",
   "metadata": {},
   "outputs": [
    {
     "data": {
      "text/plain": [
       "45.10860947254205"
      ]
     },
     "execution_count": 235,
     "metadata": {},
     "output_type": "execute_result"
    }
   ],
   "source": [
    "candidates_1988[candidates_1988['party_simplified'] == \"DEMOCRAT\"].mean(axis = 0).state_vote_split"
   ]
  },
  {
   "cell_type": "code",
   "execution_count": 236,
   "id": "arctic-concrete",
   "metadata": {},
   "outputs": [],
   "source": [
    "candidates_1992 = candidates[(candidates['year'] == 1992)]"
   ]
  },
  {
   "cell_type": "code",
   "execution_count": 237,
   "id": "legal-insider",
   "metadata": {},
   "outputs": [
    {
     "data": {
      "text/plain": [
       "37.5547740713412"
      ]
     },
     "execution_count": 237,
     "metadata": {},
     "output_type": "execute_result"
    }
   ],
   "source": [
    "candidates_1992[candidates_1992['party_simplified'] == \"REPUBLICAN\"].mean(axis = 0).state_vote_split"
   ]
  },
  {
   "cell_type": "code",
   "execution_count": 238,
   "id": "color-newfoundland",
   "metadata": {},
   "outputs": [
    {
     "data": {
      "text/plain": [
       "42.01496582018675"
      ]
     },
     "execution_count": 238,
     "metadata": {},
     "output_type": "execute_result"
    }
   ],
   "source": [
    "candidates_1992[candidates_1992['party_simplified'] == \"DEMOCRAT\"].mean(axis = 0).state_vote_split"
   ]
  },
  {
   "cell_type": "code",
   "execution_count": 239,
   "id": "renewable-findings",
   "metadata": {},
   "outputs": [],
   "source": [
    "candidates_1996 = candidates[(candidates['year'] == 1996)]"
   ]
  },
  {
   "cell_type": "code",
   "execution_count": 240,
   "id": "metric-framework",
   "metadata": {},
   "outputs": [
    {
     "data": {
      "text/plain": [
       "41.27883746450583"
      ]
     },
     "execution_count": 240,
     "metadata": {},
     "output_type": "execute_result"
    }
   ],
   "source": [
    "candidates_1996[candidates_1996['party_simplified'] == \"REPUBLICAN\"].mean(axis = 0).state_vote_split"
   ]
  },
  {
   "cell_type": "code",
   "execution_count": 241,
   "id": "mobile-matter",
   "metadata": {},
   "outputs": [
    {
     "data": {
      "text/plain": [
       "47.90900173039689"
      ]
     },
     "execution_count": 241,
     "metadata": {},
     "output_type": "execute_result"
    }
   ],
   "source": [
    "candidates_1996[candidates_1996['party_simplified'] == \"DEMOCRAT\"].mean(axis = 0).state_vote_split"
   ]
  },
  {
   "cell_type": "code",
   "execution_count": 242,
   "id": "covered-portal",
   "metadata": {},
   "outputs": [],
   "source": [
    "candidates_2000 = candidates[(candidates['year'] == 2000)]"
   ]
  },
  {
   "cell_type": "code",
   "execution_count": 243,
   "id": "ancient-combination",
   "metadata": {},
   "outputs": [
    {
     "data": {
      "text/plain": [
       "49.57504020287853"
      ]
     },
     "execution_count": 243,
     "metadata": {},
     "output_type": "execute_result"
    }
   ],
   "source": [
    "candidates_2000[candidates_2000['party_simplified'] == \"REPUBLICAN\"].mean(axis = 0).state_vote_split"
   ]
  },
  {
   "cell_type": "code",
   "execution_count": 244,
   "id": "maritime-certification",
   "metadata": {},
   "outputs": [
    {
     "data": {
      "text/plain": [
       "45.91855975777038"
      ]
     },
     "execution_count": 244,
     "metadata": {},
     "output_type": "execute_result"
    }
   ],
   "source": [
    "candidates_2000[candidates_2000['party_simplified'] == \"DEMOCRAT\"].mean(axis = 0).state_vote_split"
   ]
  },
  {
   "cell_type": "code",
   "execution_count": 245,
   "id": "acknowledged-license",
   "metadata": {},
   "outputs": [],
   "source": [
    "candidates_2004 = candidates[(candidates['year'] == 2004)]"
   ]
  },
  {
   "cell_type": "code",
   "execution_count": 246,
   "id": "specific-definition",
   "metadata": {},
   "outputs": [
    {
     "data": {
      "text/plain": [
       "52.21999800417345"
      ]
     },
     "execution_count": 246,
     "metadata": {},
     "output_type": "execute_result"
    }
   ],
   "source": [
    "candidates_2004[candidates_2004['party_simplified'] == \"REPUBLICAN\"].mean(axis = 0).state_vote_split"
   ]
  },
  {
   "cell_type": "code",
   "execution_count": 247,
   "id": "aggregate-lloyd",
   "metadata": {},
   "outputs": [
    {
     "data": {
      "text/plain": [
       "45.585911503285246"
      ]
     },
     "execution_count": 247,
     "metadata": {},
     "output_type": "execute_result"
    }
   ],
   "source": [
    "candidates_2004[candidates_2004['party_simplified'] == \"DEMOCRAT\"].mean(axis = 0).state_vote_split"
   ]
  },
  {
   "cell_type": "code",
   "execution_count": 248,
   "id": "conditional-mission",
   "metadata": {},
   "outputs": [],
   "source": [
    "candidates_2008 = candidates[(candidates['year'] == 2008)]"
   ]
  },
  {
   "cell_type": "code",
   "execution_count": 249,
   "id": "indian-piece",
   "metadata": {},
   "outputs": [
    {
     "data": {
      "text/plain": [
       "46.9465832557911"
      ]
     },
     "execution_count": 249,
     "metadata": {},
     "output_type": "execute_result"
    }
   ],
   "source": [
    "candidates_2008[candidates_2008['party_simplified'] == \"REPUBLICAN\"].mean(axis = 0).state_vote_split"
   ]
  },
  {
   "cell_type": "code",
   "execution_count": 250,
   "id": "impressed-economy",
   "metadata": {},
   "outputs": [
    {
     "data": {
      "text/plain": [
       "51.26538701378982"
      ]
     },
     "execution_count": 250,
     "metadata": {},
     "output_type": "execute_result"
    }
   ],
   "source": [
    "candidates_2008[candidates_2008['party_simplified'] == \"DEMOCRAT\"].mean(axis = 0).state_vote_split"
   ]
  },
  {
   "cell_type": "code",
   "execution_count": 251,
   "id": "paperback-accused",
   "metadata": {},
   "outputs": [],
   "source": [
    "candidates_2012 = candidates[(candidates['year'] == 2012)]"
   ]
  },
  {
   "cell_type": "code",
   "execution_count": 252,
   "id": "funky-nirvana",
   "metadata": {},
   "outputs": [
    {
     "data": {
      "text/plain": [
       "48.89869938088381"
      ]
     },
     "execution_count": 252,
     "metadata": {},
     "output_type": "execute_result"
    }
   ],
   "source": [
    "candidates_2012[candidates_2012['party_simplified'] == \"REPUBLICAN\"].mean(axis = 0).state_vote_split"
   ]
  },
  {
   "cell_type": "code",
   "execution_count": 253,
   "id": "linear-dance",
   "metadata": {},
   "outputs": [
    {
     "data": {
      "text/plain": [
       "48.94112593557484"
      ]
     },
     "execution_count": 253,
     "metadata": {},
     "output_type": "execute_result"
    }
   ],
   "source": [
    "candidates_2012[candidates_2012['party_simplified'] == \"DEMOCRAT\"].mean(axis = 0).state_vote_split"
   ]
  },
  {
   "cell_type": "code",
   "execution_count": 254,
   "id": "accompanied-moldova",
   "metadata": {},
   "outputs": [],
   "source": [
    "candidates_2016 = candidates[(candidates['year'] == 2016)]"
   ]
  },
  {
   "cell_type": "code",
   "execution_count": 255,
   "id": "alternative-increase",
   "metadata": {},
   "outputs": [
    {
     "data": {
      "text/plain": [
       "47.31524756385825"
      ]
     },
     "execution_count": 255,
     "metadata": {},
     "output_type": "execute_result"
    }
   ],
   "source": [
    "candidates_2016[candidates_2016['party_simplified'] == \"REPUBLICAN\"].mean(axis = 0).state_vote_split"
   ]
  },
  {
   "cell_type": "code",
   "execution_count": 256,
   "id": "animal-plant",
   "metadata": {},
   "outputs": [
    {
     "data": {
      "text/plain": [
       "42.886479057581965"
      ]
     },
     "execution_count": 256,
     "metadata": {},
     "output_type": "execute_result"
    }
   ],
   "source": [
    "candidates_2016[candidates_2016['party_simplified'] == \"DEMOCRAT\"].mean(axis = 0).state_vote_split"
   ]
  },
  {
   "cell_type": "code",
   "execution_count": 257,
   "id": "placed-prompt",
   "metadata": {},
   "outputs": [],
   "source": [
    "candidates_2020 = candidates[(candidates['year'] == 2020)]"
   ]
  },
  {
   "cell_type": "code",
   "execution_count": 258,
   "id": "verbal-democracy",
   "metadata": {},
   "outputs": [
    {
     "data": {
      "text/plain": [
       "49.15727985871647"
      ]
     },
     "execution_count": 258,
     "metadata": {},
     "output_type": "execute_result"
    }
   ],
   "source": [
    "candidates_2020[candidates_2020['party_simplified'] == \"REPUBLICAN\"].mean(axis = 0).state_vote_split"
   ]
  },
  {
   "cell_type": "code",
   "execution_count": 259,
   "id": "unnecessary-guatemala",
   "metadata": {},
   "outputs": [
    {
     "data": {
      "text/plain": [
       "48.56579655719238"
      ]
     },
     "execution_count": 259,
     "metadata": {},
     "output_type": "execute_result"
    }
   ],
   "source": [
    "candidates_2020[candidates_2020['party_simplified'] == \"DEMOCRAT\"].mean(axis = 0).state_vote_split"
   ]
  },
  {
   "cell_type": "markdown",
   "id": "useful-basic",
   "metadata": {},
   "source": [
    "We will take those percentages and put them in their own data frame."
   ]
  },
  {
   "cell_type": "code",
   "execution_count": 260,
   "id": "concrete-george",
   "metadata": {},
   "outputs": [],
   "source": [
    "cycle = pd.DataFrame({'cycle' : ['1976-1980', '1980-1984', '1984-1988', '1988-1992', '1992-1996', '1996-2000', '2000-2004', '2004-2008', '2008-2012', '2012-2016', '2016-2020'], 'dem' : [49.49, 39.91, 45.10, 42.01, 47.90, 45.91, 45.58, 51.26, 48.94, 42.88, 48.56], 'rep' : [48.32, 51.30, 53.66, 37.55, 41.27, 49.57, 52.21, 46.94, 48.89, 47.31, 49.15]})"
   ]
  },
  {
   "cell_type": "code",
   "execution_count": 261,
   "id": "injured-visitor",
   "metadata": {},
   "outputs": [
    {
     "data": {
      "text/html": [
       "<div>\n",
       "<style scoped>\n",
       "    .dataframe tbody tr th:only-of-type {\n",
       "        vertical-align: middle;\n",
       "    }\n",
       "\n",
       "    .dataframe tbody tr th {\n",
       "        vertical-align: top;\n",
       "    }\n",
       "\n",
       "    .dataframe thead th {\n",
       "        text-align: right;\n",
       "    }\n",
       "</style>\n",
       "<table border=\"1\" class=\"dataframe\">\n",
       "  <thead>\n",
       "    <tr style=\"text-align: right;\">\n",
       "      <th></th>\n",
       "      <th>cycle</th>\n",
       "      <th>dem</th>\n",
       "      <th>rep</th>\n",
       "    </tr>\n",
       "  </thead>\n",
       "  <tbody>\n",
       "    <tr>\n",
       "      <th>0</th>\n",
       "      <td>1976-1980</td>\n",
       "      <td>49.49</td>\n",
       "      <td>48.32</td>\n",
       "    </tr>\n",
       "    <tr>\n",
       "      <th>1</th>\n",
       "      <td>1980-1984</td>\n",
       "      <td>39.91</td>\n",
       "      <td>51.30</td>\n",
       "    </tr>\n",
       "    <tr>\n",
       "      <th>2</th>\n",
       "      <td>1984-1988</td>\n",
       "      <td>45.10</td>\n",
       "      <td>53.66</td>\n",
       "    </tr>\n",
       "    <tr>\n",
       "      <th>3</th>\n",
       "      <td>1988-1992</td>\n",
       "      <td>42.01</td>\n",
       "      <td>37.55</td>\n",
       "    </tr>\n",
       "    <tr>\n",
       "      <th>4</th>\n",
       "      <td>1992-1996</td>\n",
       "      <td>47.90</td>\n",
       "      <td>41.27</td>\n",
       "    </tr>\n",
       "    <tr>\n",
       "      <th>5</th>\n",
       "      <td>1996-2000</td>\n",
       "      <td>45.91</td>\n",
       "      <td>49.57</td>\n",
       "    </tr>\n",
       "    <tr>\n",
       "      <th>6</th>\n",
       "      <td>2000-2004</td>\n",
       "      <td>45.58</td>\n",
       "      <td>52.21</td>\n",
       "    </tr>\n",
       "    <tr>\n",
       "      <th>7</th>\n",
       "      <td>2004-2008</td>\n",
       "      <td>51.26</td>\n",
       "      <td>46.94</td>\n",
       "    </tr>\n",
       "    <tr>\n",
       "      <th>8</th>\n",
       "      <td>2008-2012</td>\n",
       "      <td>48.94</td>\n",
       "      <td>48.89</td>\n",
       "    </tr>\n",
       "    <tr>\n",
       "      <th>9</th>\n",
       "      <td>2012-2016</td>\n",
       "      <td>42.88</td>\n",
       "      <td>47.31</td>\n",
       "    </tr>\n",
       "    <tr>\n",
       "      <th>10</th>\n",
       "      <td>2016-2020</td>\n",
       "      <td>48.56</td>\n",
       "      <td>49.15</td>\n",
       "    </tr>\n",
       "  </tbody>\n",
       "</table>\n",
       "</div>"
      ],
      "text/plain": [
       "        cycle    dem    rep\n",
       "0   1976-1980  49.49  48.32\n",
       "1   1980-1984  39.91  51.30\n",
       "2   1984-1988  45.10  53.66\n",
       "3   1988-1992  42.01  37.55\n",
       "4   1992-1996  47.90  41.27\n",
       "5   1996-2000  45.91  49.57\n",
       "6   2000-2004  45.58  52.21\n",
       "7   2004-2008  51.26  46.94\n",
       "8   2008-2012  48.94  48.89\n",
       "9   2012-2016  42.88  47.31\n",
       "10  2016-2020  48.56  49.15"
      ]
     },
     "execution_count": 261,
     "metadata": {},
     "output_type": "execute_result"
    }
   ],
   "source": [
    "cycle"
   ]
  },
  {
   "cell_type": "markdown",
   "id": "moderate-discharge",
   "metadata": {},
   "source": [
    "As we can see here, the democrats won 5 elections and the republicans won 6 elections. George H.W. Bush being the anomaly of the data set, we can infer a pattern exists. (The 2000 and 2016 elections had republican winners because of the electoral college. These could be counted as democratic wins, but because the EC determines the presidency, we will consider them republican wins.)"
   ]
  },
  {
   "cell_type": "markdown",
   "id": "adjustable-longer",
   "metadata": {},
   "source": [
    "Based on this data, we can infer that there is a pattern of back and forth between election cycles with some regularity, accounting for anomalies aside. There is some bias in the data to address. When favoring state population vote totals individually, different results are obtained from when the average of the national vote is calculated. "
   ]
  }
 ],
 "metadata": {
  "kernelspec": {
   "display_name": "Python 3",
   "language": "python",
   "name": "python3"
  },
  "language_info": {
   "codemirror_mode": {
    "name": "ipython",
    "version": 3
   },
   "file_extension": ".py",
   "mimetype": "text/x-python",
   "name": "python",
   "nbconvert_exporter": "python",
   "pygments_lexer": "ipython3",
   "version": "3.9.1"
  }
 },
 "nbformat": 4,
 "nbformat_minor": 5
}
