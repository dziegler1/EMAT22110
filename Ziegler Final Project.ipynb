{
 "cells": [
  {
   "cell_type": "markdown",
   "id": "political-living",
   "metadata": {},
   "source": [
    "The data that I will be using is US presidential election data from 1976 - 2020. The source of the data is MIT's Election Data Science Lab, hosted by Harvard Dataverse. This data was given to me by Dr. Silva.\n",
    "Link: https://dataverse.harvard.edu/file.xhtml?fileId=4299753&version=6.0\n",
    "This data includes the following: election year, state, office, candidate, party, candidate votes, total votes, etc."
   ]
  },
  {
   "cell_type": "code",
   "execution_count": 165,
   "id": "rising-requirement",
   "metadata": {},
   "outputs": [
    {
     "name": "stdout",
     "output_type": "stream",
     "text": [
      "      year    state state_po  state_fips  state_cen  state_ic        office  \\\n",
      "0     1976  ALABAMA       AL           1         63        41  US PRESIDENT   \n",
      "1     1976  ALABAMA       AL           1         63        41  US PRESIDENT   \n",
      "2     1976  ALABAMA       AL           1         63        41  US PRESIDENT   \n",
      "3     1976  ALABAMA       AL           1         63        41  US PRESIDENT   \n",
      "4     1976  ALABAMA       AL           1         63        41  US PRESIDENT   \n",
      "...    ...      ...      ...         ...        ...       ...           ...   \n",
      "4282  2020  WYOMING       WY          56         83        68  US PRESIDENT   \n",
      "4283  2020  WYOMING       WY          56         83        68  US PRESIDENT   \n",
      "4284  2020  WYOMING       WY          56         83        68  US PRESIDENT   \n",
      "4285  2020  WYOMING       WY          56         83        68  US PRESIDENT   \n",
      "4286  2020  WYOMING       WY          56         83        68  US PRESIDENT   \n",
      "\n",
      "                    candidate              party_detailed writein  \\\n",
      "0               CARTER, JIMMY                    DEMOCRAT   False   \n",
      "1                FORD, GERALD                  REPUBLICAN   False   \n",
      "2              MADDOX, LESTER  AMERICAN INDEPENDENT PARTY   False   \n",
      "3     BUBAR, BENJAMIN \"\"BEN\"\"                 PROHIBITION   False   \n",
      "4                   HALL, GUS         COMMUNIST PARTY USE   False   \n",
      "...                       ...                         ...     ...   \n",
      "4282            JORGENSEN, JO                 LIBERTARIAN   False   \n",
      "4283            PIERCE, BROCK                 INDEPENDENT   False   \n",
      "4284                      NaN                         NaN    True   \n",
      "4285                OVERVOTES                         NaN   False   \n",
      "4286               UNDERVOTES                         NaN   False   \n",
      "\n",
      "      candidatevotes  totalvotes   version  notes party_simplified  \n",
      "0             659170     1182850  20210113    NaN         DEMOCRAT  \n",
      "1             504070     1182850  20210113    NaN       REPUBLICAN  \n",
      "2               9198     1182850  20210113    NaN            OTHER  \n",
      "3               6669     1182850  20210113    NaN            OTHER  \n",
      "4               1954     1182850  20210113    NaN            OTHER  \n",
      "...              ...         ...       ...    ...              ...  \n",
      "4282            5768      278503  20210113    NaN      LIBERTARIAN  \n",
      "4283            2208      278503  20210113    NaN            OTHER  \n",
      "4284            1739      278503  20210113    NaN            OTHER  \n",
      "4285             279      278503  20210113    NaN            OTHER  \n",
      "4286            1459      278503  20210113    NaN            OTHER  \n",
      "\n",
      "[4287 rows x 15 columns]\n"
     ]
    }
   ],
   "source": [
    "import pandas as pd\n",
    "with open(r'C:\\Users\\Dave\\Dropbox\\College\\Data in Emerging Media and Technologies\\1976-2020-president.csv') as d:\n",
    "    df = pd.read_csv(r\"C:\\Users\\Dave\\Dropbox\\College\\Data in Emerging Media and Technologies\\1976-2020-president.csv\")\n",
    "print(df)"
   ]
  },
  {
   "cell_type": "markdown",
   "id": "verified-chick",
   "metadata": {},
   "source": [
    "This analysis will involve preforming a historical analysis on the data in question to determine if there is a pattern between party wins."
   ]
  },
  {
   "cell_type": "code",
   "execution_count": 166,
   "id": "swedish-blame",
   "metadata": {},
   "outputs": [
    {
     "data": {
      "text/plain": [
       "Index(['year', 'state', 'state_po', 'state_fips', 'state_cen', 'state_ic',\n",
       "       'office', 'candidate', 'party_detailed', 'writein', 'candidatevotes',\n",
       "       'totalvotes', 'version', 'notes', 'party_simplified'],\n",
       "      dtype='object')"
      ]
     },
     "execution_count": 166,
     "metadata": {},
     "output_type": "execute_result"
    }
   ],
   "source": [
    "df.keys()"
   ]
  },
  {
   "cell_type": "markdown",
   "id": "charged-patrol",
   "metadata": {},
   "source": [
    "We will exclude third party party candidates, as they does not pertain to core question. We shall consider percentage total votes for each party in each race from 1976 through 2020 using 8 year blocks, every two election cycles. We shall determine the controlling party via candidate vote totals nationally, excluding Bush v. Gore and Clinton v. Trump. In these cases, the controlling party of those elections shall be considered Republican."
   ]
  },
  {
   "cell_type": "code",
   "execution_count": 167,
   "id": "danish-graduation",
   "metadata": {},
   "outputs": [],
   "source": [
    "candidates = df[(df['party_simplified'] == \"DEMOCRAT\") | (df['party_simplified'] == \"REPUBLICAN\") ]"
   ]
  },
  {
   "cell_type": "code",
   "execution_count": 168,
   "id": "elect-storage",
   "metadata": {},
   "outputs": [
    {
     "data": {
      "text/html": [
       "<div>\n",
       "<style scoped>\n",
       "    .dataframe tbody tr th:only-of-type {\n",
       "        vertical-align: middle;\n",
       "    }\n",
       "\n",
       "    .dataframe tbody tr th {\n",
       "        vertical-align: top;\n",
       "    }\n",
       "\n",
       "    .dataframe thead th {\n",
       "        text-align: right;\n",
       "    }\n",
       "</style>\n",
       "<table border=\"1\" class=\"dataframe\">\n",
       "  <thead>\n",
       "    <tr style=\"text-align: right;\">\n",
       "      <th></th>\n",
       "      <th>year</th>\n",
       "      <th>state</th>\n",
       "      <th>state_po</th>\n",
       "      <th>state_fips</th>\n",
       "      <th>state_cen</th>\n",
       "      <th>state_ic</th>\n",
       "      <th>office</th>\n",
       "      <th>candidate</th>\n",
       "      <th>party_detailed</th>\n",
       "      <th>writein</th>\n",
       "      <th>candidatevotes</th>\n",
       "      <th>totalvotes</th>\n",
       "      <th>version</th>\n",
       "      <th>notes</th>\n",
       "      <th>party_simplified</th>\n",
       "    </tr>\n",
       "  </thead>\n",
       "  <tbody>\n",
       "    <tr>\n",
       "      <th>0</th>\n",
       "      <td>1976</td>\n",
       "      <td>ALABAMA</td>\n",
       "      <td>AL</td>\n",
       "      <td>1</td>\n",
       "      <td>63</td>\n",
       "      <td>41</td>\n",
       "      <td>US PRESIDENT</td>\n",
       "      <td>CARTER, JIMMY</td>\n",
       "      <td>DEMOCRAT</td>\n",
       "      <td>False</td>\n",
       "      <td>659170</td>\n",
       "      <td>1182850</td>\n",
       "      <td>20210113</td>\n",
       "      <td>NaN</td>\n",
       "      <td>DEMOCRAT</td>\n",
       "    </tr>\n",
       "    <tr>\n",
       "      <th>1</th>\n",
       "      <td>1976</td>\n",
       "      <td>ALABAMA</td>\n",
       "      <td>AL</td>\n",
       "      <td>1</td>\n",
       "      <td>63</td>\n",
       "      <td>41</td>\n",
       "      <td>US PRESIDENT</td>\n",
       "      <td>FORD, GERALD</td>\n",
       "      <td>REPUBLICAN</td>\n",
       "      <td>False</td>\n",
       "      <td>504070</td>\n",
       "      <td>1182850</td>\n",
       "      <td>20210113</td>\n",
       "      <td>NaN</td>\n",
       "      <td>REPUBLICAN</td>\n",
       "    </tr>\n",
       "    <tr>\n",
       "      <th>7</th>\n",
       "      <td>1976</td>\n",
       "      <td>ALASKA</td>\n",
       "      <td>AK</td>\n",
       "      <td>2</td>\n",
       "      <td>94</td>\n",
       "      <td>81</td>\n",
       "      <td>US PRESIDENT</td>\n",
       "      <td>FORD, GERALD</td>\n",
       "      <td>REPUBLICAN</td>\n",
       "      <td>False</td>\n",
       "      <td>71555</td>\n",
       "      <td>123574</td>\n",
       "      <td>20210113</td>\n",
       "      <td>NaN</td>\n",
       "      <td>REPUBLICAN</td>\n",
       "    </tr>\n",
       "    <tr>\n",
       "      <th>8</th>\n",
       "      <td>1976</td>\n",
       "      <td>ALASKA</td>\n",
       "      <td>AK</td>\n",
       "      <td>2</td>\n",
       "      <td>94</td>\n",
       "      <td>81</td>\n",
       "      <td>US PRESIDENT</td>\n",
       "      <td>CARTER, JIMMY</td>\n",
       "      <td>DEMOCRAT</td>\n",
       "      <td>False</td>\n",
       "      <td>44058</td>\n",
       "      <td>123574</td>\n",
       "      <td>20210113</td>\n",
       "      <td>NaN</td>\n",
       "      <td>DEMOCRAT</td>\n",
       "    </tr>\n",
       "    <tr>\n",
       "      <th>11</th>\n",
       "      <td>1976</td>\n",
       "      <td>ARIZONA</td>\n",
       "      <td>AZ</td>\n",
       "      <td>4</td>\n",
       "      <td>86</td>\n",
       "      <td>61</td>\n",
       "      <td>US PRESIDENT</td>\n",
       "      <td>FORD, GERALD</td>\n",
       "      <td>REPUBLICAN</td>\n",
       "      <td>False</td>\n",
       "      <td>418642</td>\n",
       "      <td>742719</td>\n",
       "      <td>20210113</td>\n",
       "      <td>NaN</td>\n",
       "      <td>REPUBLICAN</td>\n",
       "    </tr>\n",
       "    <tr>\n",
       "      <th>...</th>\n",
       "      <td>...</td>\n",
       "      <td>...</td>\n",
       "      <td>...</td>\n",
       "      <td>...</td>\n",
       "      <td>...</td>\n",
       "      <td>...</td>\n",
       "      <td>...</td>\n",
       "      <td>...</td>\n",
       "      <td>...</td>\n",
       "      <td>...</td>\n",
       "      <td>...</td>\n",
       "      <td>...</td>\n",
       "      <td>...</td>\n",
       "      <td>...</td>\n",
       "      <td>...</td>\n",
       "    </tr>\n",
       "    <tr>\n",
       "      <th>4264</th>\n",
       "      <td>2020</td>\n",
       "      <td>WEST VIRGINIA</td>\n",
       "      <td>WV</td>\n",
       "      <td>54</td>\n",
       "      <td>55</td>\n",
       "      <td>56</td>\n",
       "      <td>US PRESIDENT</td>\n",
       "      <td>TRUMP, DONALD J.</td>\n",
       "      <td>REPUBLICAN</td>\n",
       "      <td>False</td>\n",
       "      <td>545382</td>\n",
       "      <td>794652</td>\n",
       "      <td>20210113</td>\n",
       "      <td>NaN</td>\n",
       "      <td>REPUBLICAN</td>\n",
       "    </tr>\n",
       "    <tr>\n",
       "      <th>4267</th>\n",
       "      <td>2020</td>\n",
       "      <td>WISCONSIN</td>\n",
       "      <td>WI</td>\n",
       "      <td>55</td>\n",
       "      <td>35</td>\n",
       "      <td>25</td>\n",
       "      <td>US PRESIDENT</td>\n",
       "      <td>BIDEN, JOSEPH R. JR</td>\n",
       "      <td>DEMOCRAT</td>\n",
       "      <td>False</td>\n",
       "      <td>1630866</td>\n",
       "      <td>3298041</td>\n",
       "      <td>20210113</td>\n",
       "      <td>NaN</td>\n",
       "      <td>DEMOCRAT</td>\n",
       "    </tr>\n",
       "    <tr>\n",
       "      <th>4268</th>\n",
       "      <td>2020</td>\n",
       "      <td>WISCONSIN</td>\n",
       "      <td>WI</td>\n",
       "      <td>55</td>\n",
       "      <td>35</td>\n",
       "      <td>25</td>\n",
       "      <td>US PRESIDENT</td>\n",
       "      <td>TRUMP, DONALD J.</td>\n",
       "      <td>REPUBLICAN</td>\n",
       "      <td>False</td>\n",
       "      <td>1610184</td>\n",
       "      <td>3298041</td>\n",
       "      <td>20210113</td>\n",
       "      <td>NaN</td>\n",
       "      <td>REPUBLICAN</td>\n",
       "    </tr>\n",
       "    <tr>\n",
       "      <th>4280</th>\n",
       "      <td>2020</td>\n",
       "      <td>WYOMING</td>\n",
       "      <td>WY</td>\n",
       "      <td>56</td>\n",
       "      <td>83</td>\n",
       "      <td>68</td>\n",
       "      <td>US PRESIDENT</td>\n",
       "      <td>BIDEN, JOSEPH R. JR</td>\n",
       "      <td>DEMOCRAT</td>\n",
       "      <td>False</td>\n",
       "      <td>73491</td>\n",
       "      <td>278503</td>\n",
       "      <td>20210113</td>\n",
       "      <td>NaN</td>\n",
       "      <td>DEMOCRAT</td>\n",
       "    </tr>\n",
       "    <tr>\n",
       "      <th>4281</th>\n",
       "      <td>2020</td>\n",
       "      <td>WYOMING</td>\n",
       "      <td>WY</td>\n",
       "      <td>56</td>\n",
       "      <td>83</td>\n",
       "      <td>68</td>\n",
       "      <td>US PRESIDENT</td>\n",
       "      <td>TRUMP, DONALD J.</td>\n",
       "      <td>REPUBLICAN</td>\n",
       "      <td>False</td>\n",
       "      <td>193559</td>\n",
       "      <td>278503</td>\n",
       "      <td>20210113</td>\n",
       "      <td>NaN</td>\n",
       "      <td>REPUBLICAN</td>\n",
       "    </tr>\n",
       "  </tbody>\n",
       "</table>\n",
       "<p>1228 rows × 15 columns</p>\n",
       "</div>"
      ],
      "text/plain": [
       "      year          state state_po  state_fips  state_cen  state_ic  \\\n",
       "0     1976        ALABAMA       AL           1         63        41   \n",
       "1     1976        ALABAMA       AL           1         63        41   \n",
       "7     1976         ALASKA       AK           2         94        81   \n",
       "8     1976         ALASKA       AK           2         94        81   \n",
       "11    1976        ARIZONA       AZ           4         86        61   \n",
       "...    ...            ...      ...         ...        ...       ...   \n",
       "4264  2020  WEST VIRGINIA       WV          54         55        56   \n",
       "4267  2020      WISCONSIN       WI          55         35        25   \n",
       "4268  2020      WISCONSIN       WI          55         35        25   \n",
       "4280  2020        WYOMING       WY          56         83        68   \n",
       "4281  2020        WYOMING       WY          56         83        68   \n",
       "\n",
       "            office            candidate party_detailed writein  \\\n",
       "0     US PRESIDENT        CARTER, JIMMY       DEMOCRAT   False   \n",
       "1     US PRESIDENT         FORD, GERALD     REPUBLICAN   False   \n",
       "7     US PRESIDENT         FORD, GERALD     REPUBLICAN   False   \n",
       "8     US PRESIDENT        CARTER, JIMMY       DEMOCRAT   False   \n",
       "11    US PRESIDENT         FORD, GERALD     REPUBLICAN   False   \n",
       "...            ...                  ...            ...     ...   \n",
       "4264  US PRESIDENT     TRUMP, DONALD J.     REPUBLICAN   False   \n",
       "4267  US PRESIDENT  BIDEN, JOSEPH R. JR       DEMOCRAT   False   \n",
       "4268  US PRESIDENT     TRUMP, DONALD J.     REPUBLICAN   False   \n",
       "4280  US PRESIDENT  BIDEN, JOSEPH R. JR       DEMOCRAT   False   \n",
       "4281  US PRESIDENT     TRUMP, DONALD J.     REPUBLICAN   False   \n",
       "\n",
       "      candidatevotes  totalvotes   version  notes party_simplified  \n",
       "0             659170     1182850  20210113    NaN         DEMOCRAT  \n",
       "1             504070     1182850  20210113    NaN       REPUBLICAN  \n",
       "7              71555      123574  20210113    NaN       REPUBLICAN  \n",
       "8              44058      123574  20210113    NaN         DEMOCRAT  \n",
       "11            418642      742719  20210113    NaN       REPUBLICAN  \n",
       "...              ...         ...       ...    ...              ...  \n",
       "4264          545382      794652  20210113    NaN       REPUBLICAN  \n",
       "4267         1630866     3298041  20210113    NaN         DEMOCRAT  \n",
       "4268         1610184     3298041  20210113    NaN       REPUBLICAN  \n",
       "4280           73491      278503  20210113    NaN         DEMOCRAT  \n",
       "4281          193559      278503  20210113    NaN       REPUBLICAN  \n",
       "\n",
       "[1228 rows x 15 columns]"
      ]
     },
     "execution_count": 168,
     "metadata": {},
     "output_type": "execute_result"
    }
   ],
   "source": [
    "candidates"
   ]
  },
  {
   "cell_type": "code",
   "execution_count": 169,
   "id": "decreased-piano",
   "metadata": {},
   "outputs": [
    {
     "name": "stderr",
     "output_type": "stream",
     "text": [
      "<ipython-input-169-a4ae0a52de8a>:1: SettingWithCopyWarning: \n",
      "A value is trying to be set on a copy of a slice from a DataFrame.\n",
      "Try using .loc[row_indexer,col_indexer] = value instead\n",
      "\n",
      "See the caveats in the documentation: https://pandas.pydata.org/pandas-docs/stable/user_guide/indexing.html#returning-a-view-versus-a-copy\n",
      "  candidates['state_vote_split'] = df['candidatevotes'] / df['totalvotes'] * 100\n"
     ]
    }
   ],
   "source": [
    "candidates['state_vote_split'] = df['candidatevotes'] / df['totalvotes'] * 100"
   ]
  },
  {
   "cell_type": "code",
   "execution_count": 170,
   "id": "bigger-contract",
   "metadata": {},
   "outputs": [
    {
     "data": {
      "text/plain": [
       "659170"
      ]
     },
     "execution_count": 170,
     "metadata": {},
     "output_type": "execute_result"
    }
   ],
   "source": [
    "df['candidatevotes'][0]"
   ]
  },
  {
   "cell_type": "code",
   "execution_count": 171,
   "id": "inner-prototype",
   "metadata": {},
   "outputs": [
    {
     "data": {
      "text/plain": [
       "0       55.727269\n",
       "1       42.614871\n",
       "7       57.904575\n",
       "8       35.653131\n",
       "11      56.366136\n",
       "          ...    \n",
       "4264    68.631552\n",
       "4267    49.449537\n",
       "4268    48.822437\n",
       "4280    26.387867\n",
       "4281    69.499790\n",
       "Name: state_vote_split, Length: 1228, dtype: float64"
      ]
     },
     "execution_count": 171,
     "metadata": {},
     "output_type": "execute_result"
    }
   ],
   "source": [
    "candidates['state_vote_split']"
   ]
  },
  {
   "cell_type": "code",
   "execution_count": 172,
   "id": "three-contents",
   "metadata": {},
   "outputs": [
    {
     "data": {
      "text/html": [
       "<div>\n",
       "<style scoped>\n",
       "    .dataframe tbody tr th:only-of-type {\n",
       "        vertical-align: middle;\n",
       "    }\n",
       "\n",
       "    .dataframe tbody tr th {\n",
       "        vertical-align: top;\n",
       "    }\n",
       "\n",
       "    .dataframe thead th {\n",
       "        text-align: right;\n",
       "    }\n",
       "</style>\n",
       "<table border=\"1\" class=\"dataframe\">\n",
       "  <thead>\n",
       "    <tr style=\"text-align: right;\">\n",
       "      <th></th>\n",
       "      <th>year</th>\n",
       "      <th>state</th>\n",
       "      <th>state_po</th>\n",
       "      <th>state_fips</th>\n",
       "      <th>state_cen</th>\n",
       "      <th>state_ic</th>\n",
       "      <th>office</th>\n",
       "      <th>candidate</th>\n",
       "      <th>party_detailed</th>\n",
       "      <th>writein</th>\n",
       "      <th>candidatevotes</th>\n",
       "      <th>totalvotes</th>\n",
       "      <th>version</th>\n",
       "      <th>notes</th>\n",
       "      <th>party_simplified</th>\n",
       "      <th>state_vote_split</th>\n",
       "    </tr>\n",
       "  </thead>\n",
       "  <tbody>\n",
       "    <tr>\n",
       "      <th>0</th>\n",
       "      <td>1976</td>\n",
       "      <td>ALABAMA</td>\n",
       "      <td>AL</td>\n",
       "      <td>1</td>\n",
       "      <td>63</td>\n",
       "      <td>41</td>\n",
       "      <td>US PRESIDENT</td>\n",
       "      <td>CARTER, JIMMY</td>\n",
       "      <td>DEMOCRAT</td>\n",
       "      <td>False</td>\n",
       "      <td>659170</td>\n",
       "      <td>1182850</td>\n",
       "      <td>20210113</td>\n",
       "      <td>NaN</td>\n",
       "      <td>DEMOCRAT</td>\n",
       "      <td>55.727269</td>\n",
       "    </tr>\n",
       "    <tr>\n",
       "      <th>1</th>\n",
       "      <td>1976</td>\n",
       "      <td>ALABAMA</td>\n",
       "      <td>AL</td>\n",
       "      <td>1</td>\n",
       "      <td>63</td>\n",
       "      <td>41</td>\n",
       "      <td>US PRESIDENT</td>\n",
       "      <td>FORD, GERALD</td>\n",
       "      <td>REPUBLICAN</td>\n",
       "      <td>False</td>\n",
       "      <td>504070</td>\n",
       "      <td>1182850</td>\n",
       "      <td>20210113</td>\n",
       "      <td>NaN</td>\n",
       "      <td>REPUBLICAN</td>\n",
       "      <td>42.614871</td>\n",
       "    </tr>\n",
       "    <tr>\n",
       "      <th>7</th>\n",
       "      <td>1976</td>\n",
       "      <td>ALASKA</td>\n",
       "      <td>AK</td>\n",
       "      <td>2</td>\n",
       "      <td>94</td>\n",
       "      <td>81</td>\n",
       "      <td>US PRESIDENT</td>\n",
       "      <td>FORD, GERALD</td>\n",
       "      <td>REPUBLICAN</td>\n",
       "      <td>False</td>\n",
       "      <td>71555</td>\n",
       "      <td>123574</td>\n",
       "      <td>20210113</td>\n",
       "      <td>NaN</td>\n",
       "      <td>REPUBLICAN</td>\n",
       "      <td>57.904575</td>\n",
       "    </tr>\n",
       "    <tr>\n",
       "      <th>8</th>\n",
       "      <td>1976</td>\n",
       "      <td>ALASKA</td>\n",
       "      <td>AK</td>\n",
       "      <td>2</td>\n",
       "      <td>94</td>\n",
       "      <td>81</td>\n",
       "      <td>US PRESIDENT</td>\n",
       "      <td>CARTER, JIMMY</td>\n",
       "      <td>DEMOCRAT</td>\n",
       "      <td>False</td>\n",
       "      <td>44058</td>\n",
       "      <td>123574</td>\n",
       "      <td>20210113</td>\n",
       "      <td>NaN</td>\n",
       "      <td>DEMOCRAT</td>\n",
       "      <td>35.653131</td>\n",
       "    </tr>\n",
       "    <tr>\n",
       "      <th>11</th>\n",
       "      <td>1976</td>\n",
       "      <td>ARIZONA</td>\n",
       "      <td>AZ</td>\n",
       "      <td>4</td>\n",
       "      <td>86</td>\n",
       "      <td>61</td>\n",
       "      <td>US PRESIDENT</td>\n",
       "      <td>FORD, GERALD</td>\n",
       "      <td>REPUBLICAN</td>\n",
       "      <td>False</td>\n",
       "      <td>418642</td>\n",
       "      <td>742719</td>\n",
       "      <td>20210113</td>\n",
       "      <td>NaN</td>\n",
       "      <td>REPUBLICAN</td>\n",
       "      <td>56.366136</td>\n",
       "    </tr>\n",
       "    <tr>\n",
       "      <th>...</th>\n",
       "      <td>...</td>\n",
       "      <td>...</td>\n",
       "      <td>...</td>\n",
       "      <td>...</td>\n",
       "      <td>...</td>\n",
       "      <td>...</td>\n",
       "      <td>...</td>\n",
       "      <td>...</td>\n",
       "      <td>...</td>\n",
       "      <td>...</td>\n",
       "      <td>...</td>\n",
       "      <td>...</td>\n",
       "      <td>...</td>\n",
       "      <td>...</td>\n",
       "      <td>...</td>\n",
       "      <td>...</td>\n",
       "    </tr>\n",
       "    <tr>\n",
       "      <th>4264</th>\n",
       "      <td>2020</td>\n",
       "      <td>WEST VIRGINIA</td>\n",
       "      <td>WV</td>\n",
       "      <td>54</td>\n",
       "      <td>55</td>\n",
       "      <td>56</td>\n",
       "      <td>US PRESIDENT</td>\n",
       "      <td>TRUMP, DONALD J.</td>\n",
       "      <td>REPUBLICAN</td>\n",
       "      <td>False</td>\n",
       "      <td>545382</td>\n",
       "      <td>794652</td>\n",
       "      <td>20210113</td>\n",
       "      <td>NaN</td>\n",
       "      <td>REPUBLICAN</td>\n",
       "      <td>68.631552</td>\n",
       "    </tr>\n",
       "    <tr>\n",
       "      <th>4267</th>\n",
       "      <td>2020</td>\n",
       "      <td>WISCONSIN</td>\n",
       "      <td>WI</td>\n",
       "      <td>55</td>\n",
       "      <td>35</td>\n",
       "      <td>25</td>\n",
       "      <td>US PRESIDENT</td>\n",
       "      <td>BIDEN, JOSEPH R. JR</td>\n",
       "      <td>DEMOCRAT</td>\n",
       "      <td>False</td>\n",
       "      <td>1630866</td>\n",
       "      <td>3298041</td>\n",
       "      <td>20210113</td>\n",
       "      <td>NaN</td>\n",
       "      <td>DEMOCRAT</td>\n",
       "      <td>49.449537</td>\n",
       "    </tr>\n",
       "    <tr>\n",
       "      <th>4268</th>\n",
       "      <td>2020</td>\n",
       "      <td>WISCONSIN</td>\n",
       "      <td>WI</td>\n",
       "      <td>55</td>\n",
       "      <td>35</td>\n",
       "      <td>25</td>\n",
       "      <td>US PRESIDENT</td>\n",
       "      <td>TRUMP, DONALD J.</td>\n",
       "      <td>REPUBLICAN</td>\n",
       "      <td>False</td>\n",
       "      <td>1610184</td>\n",
       "      <td>3298041</td>\n",
       "      <td>20210113</td>\n",
       "      <td>NaN</td>\n",
       "      <td>REPUBLICAN</td>\n",
       "      <td>48.822437</td>\n",
       "    </tr>\n",
       "    <tr>\n",
       "      <th>4280</th>\n",
       "      <td>2020</td>\n",
       "      <td>WYOMING</td>\n",
       "      <td>WY</td>\n",
       "      <td>56</td>\n",
       "      <td>83</td>\n",
       "      <td>68</td>\n",
       "      <td>US PRESIDENT</td>\n",
       "      <td>BIDEN, JOSEPH R. JR</td>\n",
       "      <td>DEMOCRAT</td>\n",
       "      <td>False</td>\n",
       "      <td>73491</td>\n",
       "      <td>278503</td>\n",
       "      <td>20210113</td>\n",
       "      <td>NaN</td>\n",
       "      <td>DEMOCRAT</td>\n",
       "      <td>26.387867</td>\n",
       "    </tr>\n",
       "    <tr>\n",
       "      <th>4281</th>\n",
       "      <td>2020</td>\n",
       "      <td>WYOMING</td>\n",
       "      <td>WY</td>\n",
       "      <td>56</td>\n",
       "      <td>83</td>\n",
       "      <td>68</td>\n",
       "      <td>US PRESIDENT</td>\n",
       "      <td>TRUMP, DONALD J.</td>\n",
       "      <td>REPUBLICAN</td>\n",
       "      <td>False</td>\n",
       "      <td>193559</td>\n",
       "      <td>278503</td>\n",
       "      <td>20210113</td>\n",
       "      <td>NaN</td>\n",
       "      <td>REPUBLICAN</td>\n",
       "      <td>69.499790</td>\n",
       "    </tr>\n",
       "  </tbody>\n",
       "</table>\n",
       "<p>1228 rows × 16 columns</p>\n",
       "</div>"
      ],
      "text/plain": [
       "      year          state state_po  state_fips  state_cen  state_ic  \\\n",
       "0     1976        ALABAMA       AL           1         63        41   \n",
       "1     1976        ALABAMA       AL           1         63        41   \n",
       "7     1976         ALASKA       AK           2         94        81   \n",
       "8     1976         ALASKA       AK           2         94        81   \n",
       "11    1976        ARIZONA       AZ           4         86        61   \n",
       "...    ...            ...      ...         ...        ...       ...   \n",
       "4264  2020  WEST VIRGINIA       WV          54         55        56   \n",
       "4267  2020      WISCONSIN       WI          55         35        25   \n",
       "4268  2020      WISCONSIN       WI          55         35        25   \n",
       "4280  2020        WYOMING       WY          56         83        68   \n",
       "4281  2020        WYOMING       WY          56         83        68   \n",
       "\n",
       "            office            candidate party_detailed writein  \\\n",
       "0     US PRESIDENT        CARTER, JIMMY       DEMOCRAT   False   \n",
       "1     US PRESIDENT         FORD, GERALD     REPUBLICAN   False   \n",
       "7     US PRESIDENT         FORD, GERALD     REPUBLICAN   False   \n",
       "8     US PRESIDENT        CARTER, JIMMY       DEMOCRAT   False   \n",
       "11    US PRESIDENT         FORD, GERALD     REPUBLICAN   False   \n",
       "...            ...                  ...            ...     ...   \n",
       "4264  US PRESIDENT     TRUMP, DONALD J.     REPUBLICAN   False   \n",
       "4267  US PRESIDENT  BIDEN, JOSEPH R. JR       DEMOCRAT   False   \n",
       "4268  US PRESIDENT     TRUMP, DONALD J.     REPUBLICAN   False   \n",
       "4280  US PRESIDENT  BIDEN, JOSEPH R. JR       DEMOCRAT   False   \n",
       "4281  US PRESIDENT     TRUMP, DONALD J.     REPUBLICAN   False   \n",
       "\n",
       "      candidatevotes  totalvotes   version  notes party_simplified  \\\n",
       "0             659170     1182850  20210113    NaN         DEMOCRAT   \n",
       "1             504070     1182850  20210113    NaN       REPUBLICAN   \n",
       "7              71555      123574  20210113    NaN       REPUBLICAN   \n",
       "8              44058      123574  20210113    NaN         DEMOCRAT   \n",
       "11            418642      742719  20210113    NaN       REPUBLICAN   \n",
       "...              ...         ...       ...    ...              ...   \n",
       "4264          545382      794652  20210113    NaN       REPUBLICAN   \n",
       "4267         1630866     3298041  20210113    NaN         DEMOCRAT   \n",
       "4268         1610184     3298041  20210113    NaN       REPUBLICAN   \n",
       "4280           73491      278503  20210113    NaN         DEMOCRAT   \n",
       "4281          193559      278503  20210113    NaN       REPUBLICAN   \n",
       "\n",
       "      state_vote_split  \n",
       "0            55.727269  \n",
       "1            42.614871  \n",
       "7            57.904575  \n",
       "8            35.653131  \n",
       "11           56.366136  \n",
       "...                ...  \n",
       "4264         68.631552  \n",
       "4267         49.449537  \n",
       "4268         48.822437  \n",
       "4280         26.387867  \n",
       "4281         69.499790  \n",
       "\n",
       "[1228 rows x 16 columns]"
      ]
     },
     "execution_count": 172,
     "metadata": {},
     "output_type": "execute_result"
    }
   ],
   "source": [
    "candidates"
   ]
  },
  {
   "cell_type": "code",
   "execution_count": 173,
   "id": "weird-shore",
   "metadata": {},
   "outputs": [
    {
     "data": {
      "text/html": [
       "<div>\n",
       "<style scoped>\n",
       "    .dataframe tbody tr th:only-of-type {\n",
       "        vertical-align: middle;\n",
       "    }\n",
       "\n",
       "    .dataframe tbody tr th {\n",
       "        vertical-align: top;\n",
       "    }\n",
       "\n",
       "    .dataframe thead th {\n",
       "        text-align: right;\n",
       "    }\n",
       "</style>\n",
       "<table border=\"1\" class=\"dataframe\">\n",
       "  <thead>\n",
       "    <tr style=\"text-align: right;\">\n",
       "      <th></th>\n",
       "      <th>year</th>\n",
       "      <th>state</th>\n",
       "      <th>state_po</th>\n",
       "      <th>state_fips</th>\n",
       "      <th>state_cen</th>\n",
       "      <th>state_ic</th>\n",
       "      <th>office</th>\n",
       "      <th>candidate</th>\n",
       "      <th>party_detailed</th>\n",
       "      <th>writein</th>\n",
       "      <th>candidatevotes</th>\n",
       "      <th>totalvotes</th>\n",
       "      <th>version</th>\n",
       "      <th>notes</th>\n",
       "      <th>party_simplified</th>\n",
       "      <th>state_vote_split</th>\n",
       "    </tr>\n",
       "  </thead>\n",
       "  <tbody>\n",
       "    <tr>\n",
       "      <th>0</th>\n",
       "      <td>1976</td>\n",
       "      <td>ALABAMA</td>\n",
       "      <td>AL</td>\n",
       "      <td>1</td>\n",
       "      <td>63</td>\n",
       "      <td>41</td>\n",
       "      <td>US PRESIDENT</td>\n",
       "      <td>CARTER, JIMMY</td>\n",
       "      <td>DEMOCRAT</td>\n",
       "      <td>False</td>\n",
       "      <td>659170</td>\n",
       "      <td>1182850</td>\n",
       "      <td>20210113</td>\n",
       "      <td>NaN</td>\n",
       "      <td>DEMOCRAT</td>\n",
       "      <td>55.727269</td>\n",
       "    </tr>\n",
       "    <tr>\n",
       "      <th>1</th>\n",
       "      <td>1976</td>\n",
       "      <td>ALABAMA</td>\n",
       "      <td>AL</td>\n",
       "      <td>1</td>\n",
       "      <td>63</td>\n",
       "      <td>41</td>\n",
       "      <td>US PRESIDENT</td>\n",
       "      <td>FORD, GERALD</td>\n",
       "      <td>REPUBLICAN</td>\n",
       "      <td>False</td>\n",
       "      <td>504070</td>\n",
       "      <td>1182850</td>\n",
       "      <td>20210113</td>\n",
       "      <td>NaN</td>\n",
       "      <td>REPUBLICAN</td>\n",
       "      <td>42.614871</td>\n",
       "    </tr>\n",
       "    <tr>\n",
       "      <th>7</th>\n",
       "      <td>1976</td>\n",
       "      <td>ALASKA</td>\n",
       "      <td>AK</td>\n",
       "      <td>2</td>\n",
       "      <td>94</td>\n",
       "      <td>81</td>\n",
       "      <td>US PRESIDENT</td>\n",
       "      <td>FORD, GERALD</td>\n",
       "      <td>REPUBLICAN</td>\n",
       "      <td>False</td>\n",
       "      <td>71555</td>\n",
       "      <td>123574</td>\n",
       "      <td>20210113</td>\n",
       "      <td>NaN</td>\n",
       "      <td>REPUBLICAN</td>\n",
       "      <td>57.904575</td>\n",
       "    </tr>\n",
       "    <tr>\n",
       "      <th>8</th>\n",
       "      <td>1976</td>\n",
       "      <td>ALASKA</td>\n",
       "      <td>AK</td>\n",
       "      <td>2</td>\n",
       "      <td>94</td>\n",
       "      <td>81</td>\n",
       "      <td>US PRESIDENT</td>\n",
       "      <td>CARTER, JIMMY</td>\n",
       "      <td>DEMOCRAT</td>\n",
       "      <td>False</td>\n",
       "      <td>44058</td>\n",
       "      <td>123574</td>\n",
       "      <td>20210113</td>\n",
       "      <td>NaN</td>\n",
       "      <td>DEMOCRAT</td>\n",
       "      <td>35.653131</td>\n",
       "    </tr>\n",
       "    <tr>\n",
       "      <th>11</th>\n",
       "      <td>1976</td>\n",
       "      <td>ARIZONA</td>\n",
       "      <td>AZ</td>\n",
       "      <td>4</td>\n",
       "      <td>86</td>\n",
       "      <td>61</td>\n",
       "      <td>US PRESIDENT</td>\n",
       "      <td>FORD, GERALD</td>\n",
       "      <td>REPUBLICAN</td>\n",
       "      <td>False</td>\n",
       "      <td>418642</td>\n",
       "      <td>742719</td>\n",
       "      <td>20210113</td>\n",
       "      <td>NaN</td>\n",
       "      <td>REPUBLICAN</td>\n",
       "      <td>56.366136</td>\n",
       "    </tr>\n",
       "    <tr>\n",
       "      <th>12</th>\n",
       "      <td>1976</td>\n",
       "      <td>ARIZONA</td>\n",
       "      <td>AZ</td>\n",
       "      <td>4</td>\n",
       "      <td>86</td>\n",
       "      <td>61</td>\n",
       "      <td>US PRESIDENT</td>\n",
       "      <td>CARTER, JIMMY</td>\n",
       "      <td>DEMOCRAT</td>\n",
       "      <td>False</td>\n",
       "      <td>295602</td>\n",
       "      <td>742719</td>\n",
       "      <td>20210113</td>\n",
       "      <td>NaN</td>\n",
       "      <td>DEMOCRAT</td>\n",
       "      <td>39.799978</td>\n",
       "    </tr>\n",
       "    <tr>\n",
       "      <th>19</th>\n",
       "      <td>1976</td>\n",
       "      <td>ARKANSAS</td>\n",
       "      <td>AR</td>\n",
       "      <td>5</td>\n",
       "      <td>71</td>\n",
       "      <td>42</td>\n",
       "      <td>US PRESIDENT</td>\n",
       "      <td>CARTER, JIMMY</td>\n",
       "      <td>DEMOCRAT</td>\n",
       "      <td>False</td>\n",
       "      <td>498604</td>\n",
       "      <td>767535</td>\n",
       "      <td>20210113</td>\n",
       "      <td>NaN</td>\n",
       "      <td>DEMOCRAT</td>\n",
       "      <td>64.961728</td>\n",
       "    </tr>\n",
       "    <tr>\n",
       "      <th>20</th>\n",
       "      <td>1976</td>\n",
       "      <td>ARKANSAS</td>\n",
       "      <td>AR</td>\n",
       "      <td>5</td>\n",
       "      <td>71</td>\n",
       "      <td>42</td>\n",
       "      <td>US PRESIDENT</td>\n",
       "      <td>FORD, GERALD</td>\n",
       "      <td>REPUBLICAN</td>\n",
       "      <td>False</td>\n",
       "      <td>267903</td>\n",
       "      <td>767535</td>\n",
       "      <td>20210113</td>\n",
       "      <td>NaN</td>\n",
       "      <td>REPUBLICAN</td>\n",
       "      <td>34.904337</td>\n",
       "    </tr>\n",
       "    <tr>\n",
       "      <th>23</th>\n",
       "      <td>1976</td>\n",
       "      <td>CALIFORNIA</td>\n",
       "      <td>CA</td>\n",
       "      <td>6</td>\n",
       "      <td>93</td>\n",
       "      <td>71</td>\n",
       "      <td>US PRESIDENT</td>\n",
       "      <td>FORD, GERALD</td>\n",
       "      <td>REPUBLICAN</td>\n",
       "      <td>False</td>\n",
       "      <td>3882244</td>\n",
       "      <td>7803770</td>\n",
       "      <td>20210113</td>\n",
       "      <td>NaN</td>\n",
       "      <td>REPUBLICAN</td>\n",
       "      <td>49.748314</td>\n",
       "    </tr>\n",
       "    <tr>\n",
       "      <th>24</th>\n",
       "      <td>1976</td>\n",
       "      <td>CALIFORNIA</td>\n",
       "      <td>CA</td>\n",
       "      <td>6</td>\n",
       "      <td>93</td>\n",
       "      <td>71</td>\n",
       "      <td>US PRESIDENT</td>\n",
       "      <td>CARTER, JIMMY</td>\n",
       "      <td>DEMOCRAT</td>\n",
       "      <td>False</td>\n",
       "      <td>3742284</td>\n",
       "      <td>7803770</td>\n",
       "      <td>20210113</td>\n",
       "      <td>NaN</td>\n",
       "      <td>DEMOCRAT</td>\n",
       "      <td>47.954822</td>\n",
       "    </tr>\n",
       "  </tbody>\n",
       "</table>\n",
       "</div>"
      ],
      "text/plain": [
       "    year       state state_po  state_fips  state_cen  state_ic        office  \\\n",
       "0   1976     ALABAMA       AL           1         63        41  US PRESIDENT   \n",
       "1   1976     ALABAMA       AL           1         63        41  US PRESIDENT   \n",
       "7   1976      ALASKA       AK           2         94        81  US PRESIDENT   \n",
       "8   1976      ALASKA       AK           2         94        81  US PRESIDENT   \n",
       "11  1976     ARIZONA       AZ           4         86        61  US PRESIDENT   \n",
       "12  1976     ARIZONA       AZ           4         86        61  US PRESIDENT   \n",
       "19  1976    ARKANSAS       AR           5         71        42  US PRESIDENT   \n",
       "20  1976    ARKANSAS       AR           5         71        42  US PRESIDENT   \n",
       "23  1976  CALIFORNIA       CA           6         93        71  US PRESIDENT   \n",
       "24  1976  CALIFORNIA       CA           6         93        71  US PRESIDENT   \n",
       "\n",
       "        candidate party_detailed writein  candidatevotes  totalvotes  \\\n",
       "0   CARTER, JIMMY       DEMOCRAT   False          659170     1182850   \n",
       "1    FORD, GERALD     REPUBLICAN   False          504070     1182850   \n",
       "7    FORD, GERALD     REPUBLICAN   False           71555      123574   \n",
       "8   CARTER, JIMMY       DEMOCRAT   False           44058      123574   \n",
       "11   FORD, GERALD     REPUBLICAN   False          418642      742719   \n",
       "12  CARTER, JIMMY       DEMOCRAT   False          295602      742719   \n",
       "19  CARTER, JIMMY       DEMOCRAT   False          498604      767535   \n",
       "20   FORD, GERALD     REPUBLICAN   False          267903      767535   \n",
       "23   FORD, GERALD     REPUBLICAN   False         3882244     7803770   \n",
       "24  CARTER, JIMMY       DEMOCRAT   False         3742284     7803770   \n",
       "\n",
       "     version  notes party_simplified  state_vote_split  \n",
       "0   20210113    NaN         DEMOCRAT         55.727269  \n",
       "1   20210113    NaN       REPUBLICAN         42.614871  \n",
       "7   20210113    NaN       REPUBLICAN         57.904575  \n",
       "8   20210113    NaN         DEMOCRAT         35.653131  \n",
       "11  20210113    NaN       REPUBLICAN         56.366136  \n",
       "12  20210113    NaN         DEMOCRAT         39.799978  \n",
       "19  20210113    NaN         DEMOCRAT         64.961728  \n",
       "20  20210113    NaN       REPUBLICAN         34.904337  \n",
       "23  20210113    NaN       REPUBLICAN         49.748314  \n",
       "24  20210113    NaN         DEMOCRAT         47.954822  "
      ]
     },
     "execution_count": 173,
     "metadata": {},
     "output_type": "execute_result"
    }
   ],
   "source": [
    "candidates.head(10)"
   ]
  },
  {
   "cell_type": "code",
   "execution_count": 174,
   "id": "beneficial-flooring",
   "metadata": {},
   "outputs": [],
   "source": [
    "candidates_1976 = candidates[(candidates['year'] == 1976)]"
   ]
  },
  {
   "cell_type": "code",
   "execution_count": 175,
   "id": "continued-airline",
   "metadata": {},
   "outputs": [
    {
     "data": {
      "text/plain": [
       "48.32772179480301"
      ]
     },
     "execution_count": 175,
     "metadata": {},
     "output_type": "execute_result"
    }
   ],
   "source": [
    "candidates_1976[candidates_1976['party_simplified'] == \"REPUBLICAN\"].mean(axis = 0).state_vote_split"
   ]
  },
  {
   "cell_type": "code",
   "execution_count": 176,
   "id": "identical-contributor",
   "metadata": {},
   "outputs": [
    {
     "data": {
      "text/plain": [
       "49.4977841376252"
      ]
     },
     "execution_count": 176,
     "metadata": {},
     "output_type": "execute_result"
    }
   ],
   "source": [
    "candidates_1976[candidates_1976['party_simplified'] == \"DEMOCRAT\"].mean(axis = 0).state_vote_split"
   ]
  },
  {
   "cell_type": "code",
   "execution_count": 177,
   "id": "worth-butterfly",
   "metadata": {},
   "outputs": [],
   "source": [
    "candidates_1980 = candidates[(candidates['year'] == 1980)]"
   ]
  },
  {
   "cell_type": "code",
   "execution_count": 178,
   "id": "arranged-humor",
   "metadata": {},
   "outputs": [
    {
     "data": {
      "text/plain": [
       "51.30810965849188"
      ]
     },
     "execution_count": 178,
     "metadata": {},
     "output_type": "execute_result"
    }
   ],
   "source": [
    "candidates_1980[candidates_1980['party_simplified'] == \"REPUBLICAN\"].mean(axis = 0).state_vote_split"
   ]
  },
  {
   "cell_type": "code",
   "execution_count": 179,
   "id": "attached-peter",
   "metadata": {},
   "outputs": [
    {
     "data": {
      "text/plain": [
       "39.911074852242294"
      ]
     },
     "execution_count": 179,
     "metadata": {},
     "output_type": "execute_result"
    }
   ],
   "source": [
    "candidates_1980[candidates_1980['party_simplified'] == \"DEMOCRAT\"].mean(axis = 0).state_vote_split"
   ]
  },
  {
   "cell_type": "code",
   "execution_count": 180,
   "id": "induced-wrapping",
   "metadata": {},
   "outputs": [],
   "source": [
    "candidates_1988 = candidates[(candidates['year'] == 1988)]"
   ]
  },
  {
   "cell_type": "code",
   "execution_count": 181,
   "id": "portable-custody",
   "metadata": {},
   "outputs": [
    {
     "data": {
      "text/plain": [
       "53.66259744484452"
      ]
     },
     "execution_count": 181,
     "metadata": {},
     "output_type": "execute_result"
    }
   ],
   "source": [
    "candidates_1988[candidates_1988['party_simplified'] == \"REPUBLICAN\"].mean(axis = 0).state_vote_split"
   ]
  },
  {
   "cell_type": "code",
   "execution_count": 182,
   "id": "sensitive-digest",
   "metadata": {},
   "outputs": [
    {
     "data": {
      "text/plain": [
       "45.10860947254205"
      ]
     },
     "execution_count": 182,
     "metadata": {},
     "output_type": "execute_result"
    }
   ],
   "source": [
    "candidates_1988[candidates_1988['party_simplified'] == \"DEMOCRAT\"].mean(axis = 0).state_vote_split"
   ]
  },
  {
   "cell_type": "code",
   "execution_count": 183,
   "id": "bigger-registration",
   "metadata": {},
   "outputs": [],
   "source": [
    "candidates_1992 = candidates[(candidates['year'] == 1992)]"
   ]
  },
  {
   "cell_type": "code",
   "execution_count": 184,
   "id": "choice-ratio",
   "metadata": {},
   "outputs": [
    {
     "data": {
      "text/plain": [
       "37.5547740713412"
      ]
     },
     "execution_count": 184,
     "metadata": {},
     "output_type": "execute_result"
    }
   ],
   "source": [
    "candidates_1992[candidates_1992['party_simplified'] == \"REPUBLICAN\"].mean(axis = 0).state_vote_split"
   ]
  },
  {
   "cell_type": "code",
   "execution_count": 185,
   "id": "juvenile-huntington",
   "metadata": {},
   "outputs": [
    {
     "data": {
      "text/plain": [
       "42.01496582018675"
      ]
     },
     "execution_count": 185,
     "metadata": {},
     "output_type": "execute_result"
    }
   ],
   "source": [
    "candidates_1992[candidates_1992['party_simplified'] == \"DEMOCRAT\"].mean(axis = 0).state_vote_split"
   ]
  },
  {
   "cell_type": "code",
   "execution_count": 186,
   "id": "private-vessel",
   "metadata": {},
   "outputs": [],
   "source": [
    "candidates_1996 = candidates[(candidates['year'] == 1996)]"
   ]
  },
  {
   "cell_type": "code",
   "execution_count": 187,
   "id": "divine-barrel",
   "metadata": {},
   "outputs": [
    {
     "data": {
      "text/plain": [
       "41.27883746450583"
      ]
     },
     "execution_count": 187,
     "metadata": {},
     "output_type": "execute_result"
    }
   ],
   "source": [
    "candidates_1996[candidates_1996['party_simplified'] == \"REPUBLICAN\"].mean(axis = 0).state_vote_split"
   ]
  },
  {
   "cell_type": "code",
   "execution_count": 188,
   "id": "unable-azerbaijan",
   "metadata": {},
   "outputs": [
    {
     "data": {
      "text/plain": [
       "47.90900173039689"
      ]
     },
     "execution_count": 188,
     "metadata": {},
     "output_type": "execute_result"
    }
   ],
   "source": [
    "candidates_1996[candidates_1996['party_simplified'] == \"DEMOCRAT\"].mean(axis = 0).state_vote_split"
   ]
  },
  {
   "cell_type": "code",
   "execution_count": 189,
   "id": "blessed-maria",
   "metadata": {},
   "outputs": [],
   "source": [
    "candidates_2000 = candidates[(candidates['year'] == 2000)]"
   ]
  },
  {
   "cell_type": "code",
   "execution_count": 190,
   "id": "instructional-excitement",
   "metadata": {},
   "outputs": [
    {
     "data": {
      "text/plain": [
       "49.57504020287853"
      ]
     },
     "execution_count": 190,
     "metadata": {},
     "output_type": "execute_result"
    }
   ],
   "source": [
    "candidates_2000[candidates_2000['party_simplified'] == \"REPUBLICAN\"].mean(axis = 0).state_vote_split"
   ]
  },
  {
   "cell_type": "code",
   "execution_count": 191,
   "id": "internal-essex",
   "metadata": {},
   "outputs": [
    {
     "data": {
      "text/plain": [
       "45.91855975777038"
      ]
     },
     "execution_count": 191,
     "metadata": {},
     "output_type": "execute_result"
    }
   ],
   "source": [
    "candidates_2000[candidates_2000['party_simplified'] == \"DEMOCRAT\"].mean(axis = 0).state_vote_split"
   ]
  },
  {
   "cell_type": "code",
   "execution_count": 192,
   "id": "strange-security",
   "metadata": {},
   "outputs": [],
   "source": [
    "candidates_2004 = candidates[(candidates['year'] == 2004)]"
   ]
  },
  {
   "cell_type": "code",
   "execution_count": 193,
   "id": "turkish-finish",
   "metadata": {},
   "outputs": [
    {
     "data": {
      "text/plain": [
       "52.21999800417345"
      ]
     },
     "execution_count": 193,
     "metadata": {},
     "output_type": "execute_result"
    }
   ],
   "source": [
    "candidates_2004[candidates_2004['party_simplified'] == \"REPUBLICAN\"].mean(axis = 0).state_vote_split"
   ]
  },
  {
   "cell_type": "code",
   "execution_count": 194,
   "id": "excess-telling",
   "metadata": {},
   "outputs": [
    {
     "data": {
      "text/plain": [
       "45.585911503285246"
      ]
     },
     "execution_count": 194,
     "metadata": {},
     "output_type": "execute_result"
    }
   ],
   "source": [
    "candidates_2004[candidates_2004['party_simplified'] == \"DEMOCRAT\"].mean(axis = 0).state_vote_split"
   ]
  },
  {
   "cell_type": "code",
   "execution_count": 195,
   "id": "removable-canon",
   "metadata": {},
   "outputs": [],
   "source": [
    "candidates_2008 = candidates[(candidates['year'] == 2008)]"
   ]
  },
  {
   "cell_type": "code",
   "execution_count": 196,
   "id": "lightweight-kinase",
   "metadata": {},
   "outputs": [
    {
     "data": {
      "text/plain": [
       "46.9465832557911"
      ]
     },
     "execution_count": 196,
     "metadata": {},
     "output_type": "execute_result"
    }
   ],
   "source": [
    "candidates_2008[candidates_2008['party_simplified'] == \"REPUBLICAN\"].mean(axis = 0).state_vote_split"
   ]
  },
  {
   "cell_type": "code",
   "execution_count": 197,
   "id": "affected-pressing",
   "metadata": {},
   "outputs": [
    {
     "data": {
      "text/plain": [
       "51.26538701378982"
      ]
     },
     "execution_count": 197,
     "metadata": {},
     "output_type": "execute_result"
    }
   ],
   "source": [
    "candidates_2008[candidates_2008['party_simplified'] == \"DEMOCRAT\"].mean(axis = 0).state_vote_split"
   ]
  },
  {
   "cell_type": "code",
   "execution_count": 198,
   "id": "polish-teach",
   "metadata": {},
   "outputs": [],
   "source": [
    "candidates_2012 = candidates[(candidates['year'] == 2012)]"
   ]
  },
  {
   "cell_type": "code",
   "execution_count": 199,
   "id": "conscious-primary",
   "metadata": {},
   "outputs": [
    {
     "data": {
      "text/plain": [
       "48.89869938088381"
      ]
     },
     "execution_count": 199,
     "metadata": {},
     "output_type": "execute_result"
    }
   ],
   "source": [
    "candidates_2012[candidates_2012['party_simplified'] == \"REPUBLICAN\"].mean(axis = 0).state_vote_split"
   ]
  },
  {
   "cell_type": "code",
   "execution_count": 200,
   "id": "everyday-johnson",
   "metadata": {},
   "outputs": [
    {
     "data": {
      "text/plain": [
       "48.94112593557484"
      ]
     },
     "execution_count": 200,
     "metadata": {},
     "output_type": "execute_result"
    }
   ],
   "source": [
    "candidates_2012[candidates_2012['party_simplified'] == \"DEMOCRAT\"].mean(axis = 0).state_vote_split"
   ]
  },
  {
   "cell_type": "code",
   "execution_count": 201,
   "id": "plastic-adjustment",
   "metadata": {},
   "outputs": [],
   "source": [
    "candidates_2016 = candidates[(candidates['year'] == 2016)]"
   ]
  },
  {
   "cell_type": "code",
   "execution_count": 202,
   "id": "opening-sister",
   "metadata": {},
   "outputs": [
    {
     "data": {
      "text/plain": [
       "47.31524756385825"
      ]
     },
     "execution_count": 202,
     "metadata": {},
     "output_type": "execute_result"
    }
   ],
   "source": [
    "candidates_2016[candidates_2016['party_simplified'] == \"REPUBLICAN\"].mean(axis = 0).state_vote_split"
   ]
  },
  {
   "cell_type": "code",
   "execution_count": 203,
   "id": "ongoing-bicycle",
   "metadata": {},
   "outputs": [
    {
     "data": {
      "text/plain": [
       "42.886479057581965"
      ]
     },
     "execution_count": 203,
     "metadata": {},
     "output_type": "execute_result"
    }
   ],
   "source": [
    "candidates_2016[candidates_2016['party_simplified'] == \"DEMOCRAT\"].mean(axis = 0).state_vote_split"
   ]
  },
  {
   "cell_type": "code",
   "execution_count": 204,
   "id": "martial-runner",
   "metadata": {},
   "outputs": [],
   "source": [
    "candidates_2020 = candidates[(candidates['year'] == 2020)]"
   ]
  },
  {
   "cell_type": "code",
   "execution_count": 205,
   "id": "several-collins",
   "metadata": {},
   "outputs": [
    {
     "data": {
      "text/plain": [
       "49.15727985871647"
      ]
     },
     "execution_count": 205,
     "metadata": {},
     "output_type": "execute_result"
    }
   ],
   "source": [
    "candidates_2020[candidates_2020['party_simplified'] == \"REPUBLICAN\"].mean(axis = 0).state_vote_split"
   ]
  },
  {
   "cell_type": "code",
   "execution_count": 206,
   "id": "psychological-impression",
   "metadata": {},
   "outputs": [
    {
     "data": {
      "text/plain": [
       "48.56579655719238"
      ]
     },
     "execution_count": 206,
     "metadata": {},
     "output_type": "execute_result"
    }
   ],
   "source": [
    "candidates_2020[candidates_2020['party_simplified'] == \"DEMOCRAT\"].mean(axis = 0).state_vote_split"
   ]
  },
  {
   "cell_type": "code",
   "execution_count": null,
   "id": "aggressive-absolute",
   "metadata": {},
   "outputs": [],
   "source": []
  },
  {
   "cell_type": "code",
   "execution_count": 215,
   "id": "superb-commission",
   "metadata": {},
   "outputs": [
    {
     "ename": "ValueError",
     "evalue": "arrays must all be same length",
     "output_type": "error",
     "traceback": [
      "\u001b[1;31m---------------------------------------------------------------------------\u001b[0m",
      "\u001b[1;31mValueError\u001b[0m                                Traceback (most recent call last)",
      "\u001b[1;32m<ipython-input-215-dec4be69bdb8>\u001b[0m in \u001b[0;36m<module>\u001b[1;34m\u001b[0m\n\u001b[1;32m----> 1\u001b[1;33m \u001b[0mcycle\u001b[0m \u001b[1;33m=\u001b[0m \u001b[0mpd\u001b[0m\u001b[1;33m.\u001b[0m\u001b[0mDataFrame\u001b[0m\u001b[1;33m(\u001b[0m\u001b[1;33m{\u001b[0m\u001b[1;34m'cycle'\u001b[0m \u001b[1;33m:\u001b[0m \u001b[1;33m[\u001b[0m\u001b[1;34m'1976-1980'\u001b[0m\u001b[1;33m,\u001b[0m \u001b[1;34m'1980-1984'\u001b[0m\u001b[1;33m,\u001b[0m \u001b[1;34m'1984-1988'\u001b[0m\u001b[1;33m,\u001b[0m \u001b[1;34m'1992-1996'\u001b[0m\u001b[1;33m,\u001b[0m \u001b[1;34m'1996-2000'\u001b[0m\u001b[1;33m,\u001b[0m \u001b[1;34m'2000-2004'\u001b[0m\u001b[1;33m,\u001b[0m \u001b[1;34m'2004-2008'\u001b[0m\u001b[1;33m,\u001b[0m \u001b[1;34m'2008-2012'\u001b[0m\u001b[1;33m,\u001b[0m \u001b[1;34m'2012-2016'\u001b[0m\u001b[1;33m,\u001b[0m \u001b[1;34m'2016-2020'\u001b[0m\u001b[1;33m]\u001b[0m\u001b[1;33m,\u001b[0m \u001b[1;34m'dem'\u001b[0m \u001b[1;33m:\u001b[0m \u001b[1;33m[\u001b[0m\u001b[1;36m49.49\u001b[0m\u001b[1;33m,\u001b[0m \u001b[1;36m39.91\u001b[0m\u001b[1;33m,\u001b[0m \u001b[1;36m45.10\u001b[0m\u001b[1;33m,\u001b[0m \u001b[1;36m42.01\u001b[0m\u001b[1;33m,\u001b[0m \u001b[1;36m47.90\u001b[0m\u001b[1;33m,\u001b[0m \u001b[1;36m45.91\u001b[0m\u001b[1;33m,\u001b[0m \u001b[1;36m45.58\u001b[0m\u001b[1;33m,\u001b[0m \u001b[1;36m51.26\u001b[0m\u001b[1;33m,\u001b[0m \u001b[1;36m48.94\u001b[0m\u001b[1;33m,\u001b[0m \u001b[1;36m42.88\u001b[0m\u001b[1;33m,\u001b[0m \u001b[1;36m48.56\u001b[0m\u001b[1;33m]\u001b[0m\u001b[1;33m,\u001b[0m \u001b[1;34m'rep'\u001b[0m \u001b[1;33m:\u001b[0m \u001b[1;33m[\u001b[0m\u001b[1;36m48.32\u001b[0m\u001b[1;33m,\u001b[0m \u001b[1;36m51.30\u001b[0m\u001b[1;33m,\u001b[0m \u001b[1;36m53.66\u001b[0m\u001b[1;33m,\u001b[0m \u001b[1;36m37.55\u001b[0m\u001b[1;33m,\u001b[0m \u001b[1;36m41.27\u001b[0m\u001b[1;33m,\u001b[0m \u001b[1;36m49.57\u001b[0m\u001b[1;33m,\u001b[0m \u001b[1;36m52.21\u001b[0m\u001b[1;33m,\u001b[0m \u001b[1;36m46.94\u001b[0m\u001b[1;33m,\u001b[0m \u001b[1;36m48.89\u001b[0m\u001b[1;33m,\u001b[0m \u001b[1;36m47.31\u001b[0m\u001b[1;33m,\u001b[0m \u001b[1;36m49.15\u001b[0m\u001b[1;33m]\u001b[0m\u001b[1;33m}\u001b[0m\u001b[1;33m)\u001b[0m\u001b[1;33m\u001b[0m\u001b[1;33m\u001b[0m\u001b[0m\n\u001b[0m",
      "\u001b[1;32m~\\anaconda3\\envs\\DatainEMAT\\lib\\site-packages\\pandas\\core\\frame.py\u001b[0m in \u001b[0;36m__init__\u001b[1;34m(self, data, index, columns, dtype, copy)\u001b[0m\n\u001b[0;32m    527\u001b[0m \u001b[1;33m\u001b[0m\u001b[0m\n\u001b[0;32m    528\u001b[0m         \u001b[1;32melif\u001b[0m \u001b[0misinstance\u001b[0m\u001b[1;33m(\u001b[0m\u001b[0mdata\u001b[0m\u001b[1;33m,\u001b[0m \u001b[0mdict\u001b[0m\u001b[1;33m)\u001b[0m\u001b[1;33m:\u001b[0m\u001b[1;33m\u001b[0m\u001b[1;33m\u001b[0m\u001b[0m\n\u001b[1;32m--> 529\u001b[1;33m             \u001b[0mmgr\u001b[0m \u001b[1;33m=\u001b[0m \u001b[0minit_dict\u001b[0m\u001b[1;33m(\u001b[0m\u001b[0mdata\u001b[0m\u001b[1;33m,\u001b[0m \u001b[0mindex\u001b[0m\u001b[1;33m,\u001b[0m \u001b[0mcolumns\u001b[0m\u001b[1;33m,\u001b[0m \u001b[0mdtype\u001b[0m\u001b[1;33m=\u001b[0m\u001b[0mdtype\u001b[0m\u001b[1;33m)\u001b[0m\u001b[1;33m\u001b[0m\u001b[1;33m\u001b[0m\u001b[0m\n\u001b[0m\u001b[0;32m    530\u001b[0m         \u001b[1;32melif\u001b[0m \u001b[0misinstance\u001b[0m\u001b[1;33m(\u001b[0m\u001b[0mdata\u001b[0m\u001b[1;33m,\u001b[0m \u001b[0mma\u001b[0m\u001b[1;33m.\u001b[0m\u001b[0mMaskedArray\u001b[0m\u001b[1;33m)\u001b[0m\u001b[1;33m:\u001b[0m\u001b[1;33m\u001b[0m\u001b[1;33m\u001b[0m\u001b[0m\n\u001b[0;32m    531\u001b[0m             \u001b[1;32mimport\u001b[0m \u001b[0mnumpy\u001b[0m\u001b[1;33m.\u001b[0m\u001b[0mma\u001b[0m\u001b[1;33m.\u001b[0m\u001b[0mmrecords\u001b[0m \u001b[1;32mas\u001b[0m \u001b[0mmrecords\u001b[0m\u001b[1;33m\u001b[0m\u001b[1;33m\u001b[0m\u001b[0m\n",
      "\u001b[1;32m~\\anaconda3\\envs\\DatainEMAT\\lib\\site-packages\\pandas\\core\\internals\\construction.py\u001b[0m in \u001b[0;36minit_dict\u001b[1;34m(data, index, columns, dtype)\u001b[0m\n\u001b[0;32m    285\u001b[0m             \u001b[0marr\u001b[0m \u001b[1;32mif\u001b[0m \u001b[1;32mnot\u001b[0m \u001b[0mis_datetime64tz_dtype\u001b[0m\u001b[1;33m(\u001b[0m\u001b[0marr\u001b[0m\u001b[1;33m)\u001b[0m \u001b[1;32melse\u001b[0m \u001b[0marr\u001b[0m\u001b[1;33m.\u001b[0m\u001b[0mcopy\u001b[0m\u001b[1;33m(\u001b[0m\u001b[1;33m)\u001b[0m \u001b[1;32mfor\u001b[0m \u001b[0marr\u001b[0m \u001b[1;32min\u001b[0m \u001b[0marrays\u001b[0m\u001b[1;33m\u001b[0m\u001b[1;33m\u001b[0m\u001b[0m\n\u001b[0;32m    286\u001b[0m         ]\n\u001b[1;32m--> 287\u001b[1;33m     \u001b[1;32mreturn\u001b[0m \u001b[0marrays_to_mgr\u001b[0m\u001b[1;33m(\u001b[0m\u001b[0marrays\u001b[0m\u001b[1;33m,\u001b[0m \u001b[0mdata_names\u001b[0m\u001b[1;33m,\u001b[0m \u001b[0mindex\u001b[0m\u001b[1;33m,\u001b[0m \u001b[0mcolumns\u001b[0m\u001b[1;33m,\u001b[0m \u001b[0mdtype\u001b[0m\u001b[1;33m=\u001b[0m\u001b[0mdtype\u001b[0m\u001b[1;33m)\u001b[0m\u001b[1;33m\u001b[0m\u001b[1;33m\u001b[0m\u001b[0m\n\u001b[0m\u001b[0;32m    288\u001b[0m \u001b[1;33m\u001b[0m\u001b[0m\n\u001b[0;32m    289\u001b[0m \u001b[1;33m\u001b[0m\u001b[0m\n",
      "\u001b[1;32m~\\anaconda3\\envs\\DatainEMAT\\lib\\site-packages\\pandas\\core\\internals\\construction.py\u001b[0m in \u001b[0;36marrays_to_mgr\u001b[1;34m(arrays, arr_names, index, columns, dtype, verify_integrity)\u001b[0m\n\u001b[0;32m     78\u001b[0m         \u001b[1;31m# figure out the index, if necessary\u001b[0m\u001b[1;33m\u001b[0m\u001b[1;33m\u001b[0m\u001b[1;33m\u001b[0m\u001b[0m\n\u001b[0;32m     79\u001b[0m         \u001b[1;32mif\u001b[0m \u001b[0mindex\u001b[0m \u001b[1;32mis\u001b[0m \u001b[1;32mNone\u001b[0m\u001b[1;33m:\u001b[0m\u001b[1;33m\u001b[0m\u001b[1;33m\u001b[0m\u001b[0m\n\u001b[1;32m---> 80\u001b[1;33m             \u001b[0mindex\u001b[0m \u001b[1;33m=\u001b[0m \u001b[0mextract_index\u001b[0m\u001b[1;33m(\u001b[0m\u001b[0marrays\u001b[0m\u001b[1;33m)\u001b[0m\u001b[1;33m\u001b[0m\u001b[1;33m\u001b[0m\u001b[0m\n\u001b[0m\u001b[0;32m     81\u001b[0m         \u001b[1;32melse\u001b[0m\u001b[1;33m:\u001b[0m\u001b[1;33m\u001b[0m\u001b[1;33m\u001b[0m\u001b[0m\n\u001b[0;32m     82\u001b[0m             \u001b[0mindex\u001b[0m \u001b[1;33m=\u001b[0m \u001b[0mensure_index\u001b[0m\u001b[1;33m(\u001b[0m\u001b[0mindex\u001b[0m\u001b[1;33m)\u001b[0m\u001b[1;33m\u001b[0m\u001b[1;33m\u001b[0m\u001b[0m\n",
      "\u001b[1;32m~\\anaconda3\\envs\\DatainEMAT\\lib\\site-packages\\pandas\\core\\internals\\construction.py\u001b[0m in \u001b[0;36mextract_index\u001b[1;34m(data)\u001b[0m\n\u001b[0;32m    399\u001b[0m             \u001b[0mlengths\u001b[0m \u001b[1;33m=\u001b[0m \u001b[0mlist\u001b[0m\u001b[1;33m(\u001b[0m\u001b[0mset\u001b[0m\u001b[1;33m(\u001b[0m\u001b[0mraw_lengths\u001b[0m\u001b[1;33m)\u001b[0m\u001b[1;33m)\u001b[0m\u001b[1;33m\u001b[0m\u001b[1;33m\u001b[0m\u001b[0m\n\u001b[0;32m    400\u001b[0m             \u001b[1;32mif\u001b[0m \u001b[0mlen\u001b[0m\u001b[1;33m(\u001b[0m\u001b[0mlengths\u001b[0m\u001b[1;33m)\u001b[0m \u001b[1;33m>\u001b[0m \u001b[1;36m1\u001b[0m\u001b[1;33m:\u001b[0m\u001b[1;33m\u001b[0m\u001b[1;33m\u001b[0m\u001b[0m\n\u001b[1;32m--> 401\u001b[1;33m                 \u001b[1;32mraise\u001b[0m \u001b[0mValueError\u001b[0m\u001b[1;33m(\u001b[0m\u001b[1;34m\"arrays must all be same length\"\u001b[0m\u001b[1;33m)\u001b[0m\u001b[1;33m\u001b[0m\u001b[1;33m\u001b[0m\u001b[0m\n\u001b[0m\u001b[0;32m    402\u001b[0m \u001b[1;33m\u001b[0m\u001b[0m\n\u001b[0;32m    403\u001b[0m             \u001b[1;32mif\u001b[0m \u001b[0mhave_dicts\u001b[0m\u001b[1;33m:\u001b[0m\u001b[1;33m\u001b[0m\u001b[1;33m\u001b[0m\u001b[0m\n",
      "\u001b[1;31mValueError\u001b[0m: arrays must all be same length"
     ]
    }
   ],
   "source": [
    "cycle = pd.DataFrame({'cycle' : ['1976-1980', '1980-1984', '1984-1988', '1992-1996', '1996-2000', '2000-2004', '2004-2008', '2008-2012', '2012-2016', '2016-2020'], 'dem' : [49.49, 39.91, 45.10, 42.01, 47.90, 45.91, 45.58, 51.26, 48.94, 42.88, 48.56], 'rep' : [48.32, 51.30, 53.66, 37.55, 41.27, 49.57, 52.21, 46.94, 48.89, 47.31, 49.15]})"
   ]
  },
  {
   "cell_type": "code",
   "execution_count": 212,
   "id": "efficient-finnish",
   "metadata": {},
   "outputs": [
    {
     "data": {
      "text/html": [
       "<div>\n",
       "<style scoped>\n",
       "    .dataframe tbody tr th:only-of-type {\n",
       "        vertical-align: middle;\n",
       "    }\n",
       "\n",
       "    .dataframe tbody tr th {\n",
       "        vertical-align: top;\n",
       "    }\n",
       "\n",
       "    .dataframe thead th {\n",
       "        text-align: right;\n",
       "    }\n",
       "</style>\n",
       "<table border=\"1\" class=\"dataframe\">\n",
       "  <thead>\n",
       "    <tr style=\"text-align: right;\">\n",
       "      <th></th>\n",
       "      <th>cycle</th>\n",
       "      <th>dem</th>\n",
       "      <th>rep</th>\n",
       "    </tr>\n",
       "  </thead>\n",
       "  <tbody>\n",
       "    <tr>\n",
       "      <th>0</th>\n",
       "      <td>1976-1980</td>\n",
       "      <td>49.49</td>\n",
       "      <td>48.32</td>\n",
       "    </tr>\n",
       "    <tr>\n",
       "      <th>1</th>\n",
       "      <td>1980-1984</td>\n",
       "      <td>39.91</td>\n",
       "      <td>51.30</td>\n",
       "    </tr>\n",
       "    <tr>\n",
       "      <th>2</th>\n",
       "      <td>1984-1988</td>\n",
       "      <td>45.10</td>\n",
       "      <td>53.66</td>\n",
       "    </tr>\n",
       "    <tr>\n",
       "      <th>3</th>\n",
       "      <td>1992-1996</td>\n",
       "      <td>42.01</td>\n",
       "      <td>37.55</td>\n",
       "    </tr>\n",
       "    <tr>\n",
       "      <th>4</th>\n",
       "      <td>2000-2004</td>\n",
       "      <td>47.90</td>\n",
       "      <td>41.27</td>\n",
       "    </tr>\n",
       "    <tr>\n",
       "      <th>5</th>\n",
       "      <td>2008-2012</td>\n",
       "      <td>45.58</td>\n",
       "      <td>52.21</td>\n",
       "    </tr>\n",
       "    <tr>\n",
       "      <th>6</th>\n",
       "      <td>2012-2016</td>\n",
       "      <td>51.26</td>\n",
       "      <td>46.94</td>\n",
       "    </tr>\n",
       "    <tr>\n",
       "      <th>7</th>\n",
       "      <td>2016-2020</td>\n",
       "      <td>48.94</td>\n",
       "      <td>48.89</td>\n",
       "    </tr>\n",
       "  </tbody>\n",
       "</table>\n",
       "</div>"
      ],
      "text/plain": [
       "       cycle    dem    rep\n",
       "0  1976-1980  49.49  48.32\n",
       "1  1980-1984  39.91  51.30\n",
       "2  1984-1988  45.10  53.66\n",
       "3  1992-1996  42.01  37.55\n",
       "4  2000-2004  47.90  41.27\n",
       "5  2008-2012  45.58  52.21\n",
       "6  2012-2016  51.26  46.94\n",
       "7  2016-2020  48.94  48.89"
      ]
     },
     "execution_count": 212,
     "metadata": {},
     "output_type": "execute_result"
    }
   ],
   "source": [
    "cycle"
   ]
  },
  {
   "cell_type": "code",
   "execution_count": null,
   "id": "political-wilson",
   "metadata": {},
   "outputs": [],
   "source": []
  }
 ],
 "metadata": {
  "kernelspec": {
   "display_name": "Python 3",
   "language": "python",
   "name": "python3"
  },
  "language_info": {
   "codemirror_mode": {
    "name": "ipython",
    "version": 3
   },
   "file_extension": ".py",
   "mimetype": "text/x-python",
   "name": "python",
   "nbconvert_exporter": "python",
   "pygments_lexer": "ipython3",
   "version": "3.9.1"
  }
 },
 "nbformat": 4,
 "nbformat_minor": 5
}
