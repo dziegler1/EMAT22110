{
 "cells": [
  {
   "cell_type": "markdown",
   "id": "hourly-found",
   "metadata": {},
   "source": [
    "# **Purpose**\n",
    "The purpose of this report is to analyze how Facebook connects and uses your information with non-Facebook apps."
   ]
  },
  {
   "cell_type": "code",
   "execution_count": 1,
   "id": "brilliant-scheduling",
   "metadata": {},
   "outputs": [],
   "source": [
    "import json\n",
    "from datetime import datetime\n",
    "import matplotlib.pyplot as plt\n",
    "import numpy as np\n",
    "import time\n",
    "import pandas as pd"
   ]
  },
  {
   "cell_type": "code",
   "execution_count": 2,
   "id": "false-brighton",
   "metadata": {},
   "outputs": [
    {
     "data": {
      "text/plain": [
       "dict_keys(['off_facebook_activity'])"
      ]
     },
     "execution_count": 2,
     "metadata": {},
     "output_type": "execute_result"
    }
   ],
   "source": [
    "with open(r\"C:\\Users\\Dave\\Dropbox\\College\\Data in Emerging Media and Technologies\\Facebook Data\\facebook-davidsilva100046_toshare\\ads_and_businesses\\your_off-facebook_activity.json\") as f:\n",
    "    act = json.load(f)\n",
    "act.keys()"
   ]
  },
  {
   "cell_type": "code",
   "execution_count": 3,
   "id": "wanted-liechtenstein",
   "metadata": {},
   "outputs": [
    {
     "data": {
      "text/plain": [
       "list"
      ]
     },
     "execution_count": 3,
     "metadata": {},
     "output_type": "execute_result"
    }
   ],
   "source": [
    "type(act['off_facebook_activity'])"
   ]
  },
  {
   "cell_type": "code",
   "execution_count": 4,
   "id": "exclusive-waterproof",
   "metadata": {},
   "outputs": [
    {
     "data": {
      "text/plain": [
       "{'name': 'U.S. Bank - Inspired by customers',\n",
       " 'events': [{'id': 1591992844216198,\n",
       "   'type': 'ACTIVATE_APP',\n",
       "   'timestamp': 1594274368},\n",
       "  {'id': 1591992844216198, 'type': 'ACTIVATE_APP', 'timestamp': 1594239280},\n",
       "  {'id': 1591992844216198, 'type': 'ACTIVATE_APP', 'timestamp': 1594156238},\n",
       "  {'id': 1591992844216198, 'type': 'ACTIVATE_APP', 'timestamp': 1594066670},\n",
       "  {'id': 1591992844216198, 'type': 'ACTIVATE_APP', 'timestamp': 1593919348},\n",
       "  {'id': 1591992844216198, 'type': 'ACTIVATE_APP', 'timestamp': 1593652182},\n",
       "  {'id': 1591992844216198, 'type': 'ACTIVATE_APP', 'timestamp': 1593651360},\n",
       "  {'id': 1591992844216198, 'type': 'ACTIVATE_APP', 'timestamp': 1593273365},\n",
       "  {'id': 1591992844216198, 'type': 'ACTIVATE_APP', 'timestamp': 1593127728},\n",
       "  {'id': 1591992844216198, 'type': 'ACTIVATE_APP', 'timestamp': 1593100373},\n",
       "  {'id': 1591992844216198, 'type': 'ACTIVATE_APP', 'timestamp': 1593095964},\n",
       "  {'id': 1591992844216198, 'type': 'ACTIVATE_APP', 'timestamp': 1592933608},\n",
       "  {'id': 1591992844216198, 'type': 'ACTIVATE_APP', 'timestamp': 1592933352},\n",
       "  {'id': 1591992844216198, 'type': 'ACTIVATE_APP', 'timestamp': 1592882594},\n",
       "  {'id': 1591992844216198, 'type': 'ACTIVATE_APP', 'timestamp': 1592624705},\n",
       "  {'id': 1591992844216198, 'type': 'ACTIVATE_APP', 'timestamp': 1592624538},\n",
       "  {'id': 1591992844216198, 'type': 'ACTIVATE_APP', 'timestamp': 1592575910},\n",
       "  {'id': 1591992844216198, 'type': 'ACTIVATE_APP', 'timestamp': 1592523210}]}"
      ]
     },
     "execution_count": 4,
     "metadata": {},
     "output_type": "execute_result"
    }
   ],
   "source": [
    "act['off_facebook_activity'][0]"
   ]
  },
  {
   "cell_type": "code",
   "execution_count": 5,
   "id": "ordered-association",
   "metadata": {},
   "outputs": [
    {
     "data": {
      "text/plain": [
       "dict_keys(['name', 'events'])"
      ]
     },
     "execution_count": 5,
     "metadata": {},
     "output_type": "execute_result"
    }
   ],
   "source": [
    "act['off_facebook_activity'][0].keys()"
   ]
  },
  {
   "cell_type": "code",
   "execution_count": 6,
   "id": "optical-hurricane",
   "metadata": {},
   "outputs": [
    {
     "data": {
      "text/plain": [
       "'ACTIVATE_APP'"
      ]
     },
     "execution_count": 6,
     "metadata": {},
     "output_type": "execute_result"
    }
   ],
   "source": [
    "act['off_facebook_activity'][0]['events'][0]['type']"
   ]
  },
  {
   "cell_type": "code",
   "execution_count": 7,
   "id": "linear-wisconsin",
   "metadata": {},
   "outputs": [
    {
     "data": {
      "text/plain": [
       "True"
      ]
     },
     "execution_count": 7,
     "metadata": {},
     "output_type": "execute_result"
    }
   ],
   "source": [
    "act['off_facebook_activity'][0]['events'][0]['type'] == 'ACTIVATE_APP'"
   ]
  },
  {
   "cell_type": "code",
   "execution_count": 8,
   "id": "loved-corporation",
   "metadata": {},
   "outputs": [],
   "source": [
    "apps_requests = [x['name'] for x in act['off_facebook_activity']]\n",
    "all_event_count = [len(x['events']) for x in act['off_facebook_activity']]\n",
    "activation_count = [len([x for x in j['events'] if x['type'] == 'ACTIVATE_APP']) for j in act['off_facebook_activity']]\n",
    "custom_count = [len([x for x in j['events'] if x['type'] == 'CUSTOM']) for j in act['off_facebook_activity']]\n",
    "search_count = [len([x for x in j['events'] if x['type'] == 'SEARCH']) for j in act['off_facebook_activity']]\n",
    "view_content_count = [len([x for x in j['events'] if x['type'] == 'VIEW_CONTENT']) for j in act['off_facebook_activity']]\n",
    "ad_request_count = [len([x for x in j['events'] if x['type'] == 'AD_REQUEST']) for j in act['off_facebook_activity']]\n",
    "page_view_count = [len([x for x in j['events'] if x['type'] == 'PAGE_VIEW']) for j in act['off_facebook_activity']]"
   ]
  },
  {
   "cell_type": "code",
   "execution_count": 9,
   "id": "northern-hello",
   "metadata": {},
   "outputs": [],
   "source": [
    "apps = []\n",
    "events = []\n",
    "actapp = []\n",
    "custom = []\n",
    "search = []\n",
    "viewc = []\n",
    "ad = []\n",
    "view = []\n",
    "\n",
    "for i in act['off_facebook_activity']:\n",
    "    apps.append(i['name'])\n",
    "    events.append((len(i['events'])))\n",
    "    actapp.append(len([x for x in i['events'] if x['type'] == 'ACTIVATE_APP']))\n",
    "    custom.append(len([x for x in i['events'] if x['type'] == 'CUSTOM']))\n",
    "    search.append(len([x for x in i['events'] if x['type'] == 'SEARCH']))\n",
    "    viewc.append(len([x for x in i['events'] if x['type'] == 'VIEW_CONTENT']))\n",
    "    ad.append(len([x for x in i['events'] if x['type'] == 'AD_REQUEST']))\n",
    "    view.append(len([x for x in i['events'] if x['type'] == 'PAGE_VIEW']))"
   ]
  },
  {
   "cell_type": "code",
   "execution_count": 10,
   "id": "unlike-institute",
   "metadata": {},
   "outputs": [
    {
     "data": {
      "text/html": [
       "<div>\n",
       "<style scoped>\n",
       "    .dataframe tbody tr th:only-of-type {\n",
       "        vertical-align: middle;\n",
       "    }\n",
       "\n",
       "    .dataframe tbody tr th {\n",
       "        vertical-align: top;\n",
       "    }\n",
       "\n",
       "    .dataframe thead th {\n",
       "        text-align: right;\n",
       "    }\n",
       "</style>\n",
       "<table border=\"1\" class=\"dataframe\">\n",
       "  <thead>\n",
       "    <tr style=\"text-align: right;\">\n",
       "      <th></th>\n",
       "      <th>App</th>\n",
       "      <th>Event Count</th>\n",
       "      <th>Activate App</th>\n",
       "      <th>Custom</th>\n",
       "      <th>Search</th>\n",
       "      <th>View Content</th>\n",
       "      <th>Ad Request</th>\n",
       "      <th>Page Views</th>\n",
       "    </tr>\n",
       "  </thead>\n",
       "  <tbody>\n",
       "    <tr>\n",
       "      <th>0</th>\n",
       "      <td>U.S. Bank - Inspired by customers</td>\n",
       "      <td>18</td>\n",
       "      <td>18</td>\n",
       "      <td>0</td>\n",
       "      <td>0</td>\n",
       "      <td>0</td>\n",
       "      <td>0</td>\n",
       "      <td>0</td>\n",
       "    </tr>\n",
       "    <tr>\n",
       "      <th>1</th>\n",
       "      <td>Egg, Inc.</td>\n",
       "      <td>165</td>\n",
       "      <td>109</td>\n",
       "      <td>0</td>\n",
       "      <td>0</td>\n",
       "      <td>0</td>\n",
       "      <td>35</td>\n",
       "      <td>0</td>\n",
       "    </tr>\n",
       "    <tr>\n",
       "      <th>2</th>\n",
       "      <td>AP News</td>\n",
       "      <td>465</td>\n",
       "      <td>133</td>\n",
       "      <td>325</td>\n",
       "      <td>0</td>\n",
       "      <td>0</td>\n",
       "      <td>7</td>\n",
       "      <td>0</td>\n",
       "    </tr>\n",
       "    <tr>\n",
       "      <th>3</th>\n",
       "      <td>TikTok - Make Your Day</td>\n",
       "      <td>371</td>\n",
       "      <td>99</td>\n",
       "      <td>267</td>\n",
       "      <td>5</td>\n",
       "      <td>0</td>\n",
       "      <td>0</td>\n",
       "      <td>0</td>\n",
       "    </tr>\n",
       "    <tr>\n",
       "      <th>4</th>\n",
       "      <td>uoregon.edu</td>\n",
       "      <td>1</td>\n",
       "      <td>0</td>\n",
       "      <td>0</td>\n",
       "      <td>0</td>\n",
       "      <td>0</td>\n",
       "      <td>0</td>\n",
       "      <td>1</td>\n",
       "    </tr>\n",
       "  </tbody>\n",
       "</table>\n",
       "</div>"
      ],
      "text/plain": [
       "                                 App  Event Count  Activate App  Custom  \\\n",
       "0  U.S. Bank - Inspired by customers           18            18       0   \n",
       "1                          Egg, Inc.          165           109       0   \n",
       "2                            AP News          465           133     325   \n",
       "3             TikTok - Make Your Day          371            99     267   \n",
       "4                        uoregon.edu            1             0       0   \n",
       "\n",
       "   Search  View Content  Ad Request  Page Views  \n",
       "0       0             0           0           0  \n",
       "1       0             0          35           0  \n",
       "2       0             0           7           0  \n",
       "3       5             0           0           0  \n",
       "4       0             0           0           1  "
      ]
     },
     "execution_count": 10,
     "metadata": {},
     "output_type": "execute_result"
    }
   ],
   "source": [
    "appbyevent = pd.DataFrame(columns = ('App', 'Event Count', 'Activate App', 'Custom', 'Search', 'View Content', 'Ad Request', 'Page Views'))\n",
    "appbyevent['App'] = apps\n",
    "appbyevent['Event Count'] = events\n",
    "appbyevent['Activate App'] = actapp\n",
    "appbyevent['Custom'] = custom\n",
    "appbyevent['Search'] = search\n",
    "appbyevent['View Content'] = viewc\n",
    "appbyevent['Ad Request'] = ad\n",
    "appbyevent['Page Views'] = view\n",
    "appbyevent.head()"
   ]
  },
  {
   "cell_type": "markdown",
   "id": "accompanied-peter",
   "metadata": {},
   "source": []
  },
  {
   "cell_type": "markdown",
   "id": "boring-washer",
   "metadata": {},
   "source": [
    "**Data Visualization**"
   ]
  },
  {
   "cell_type": "code",
   "execution_count": 11,
   "id": "continuing-control",
   "metadata": {},
   "outputs": [
    {
     "data": {
      "image/png": "[encoded data removed]",
      "text/plain": [
       "<Figure size 432x288 with 1 Axes>"
      ]
     },
     "metadata": {
      "needs_background": "light"
     },
     "output_type": "display_data"
    }
   ],
   "source": [
    "appbyevent = appbyevent.sort_values(by = ['Event Count'], ascending = False)\n",
    "X = np.arange(30)\n",
    "fig = plt.figure()\n",
    "ax = fig.add_axes([0,0,1,1])\n",
    "ax.bar(X + 0.00, appbyevent['Event Count'][0:30], color = 'b', alpha = .1, width = .90)\n",
    "ax.bar(X + 0.00, appbyevent['Activate App'][0:30], color='b', width = .15)\n",
    "ax.bar(X + 0.15, appbyevent['Custom'][0:30], color='g', width = .15)\n",
    "ax.bar(X + 0.30, appbyevent['Page Views'][0:30], color='r', width = .15)\n",
    "ax.bar(X + 0.45, appbyevent['View Content'][0:30], color='c', width = .15)\n",
    "ax.bar(X+.60, appbyevent['Ad Request'][0:30], color = 'y', width = .15)\n",
    "plt.xticks(ticks=X+.2, labels = list(appbyevent['App'][0:30]), rotation=90)\n",
    "ax.legend(labels=['Total Events' ,'Activate App', 'Custom', 'Page Views', 'View Content', 'Ad Request'])\n",
    "plt.show()"
   ]
  },
  {
   "cell_type": "markdown",
   "id": "compliant-gibson",
   "metadata": {},
   "source": []
  },
  {
   "cell_type": "code",
   "execution_count": null,
   "id": "legendary-garbage",
   "metadata": {},
   "outputs": [],
   "source": []
  },
  {
   "cell_type": "markdown",
   "id": "continuous-desert",
   "metadata": {},
   "source": []
  },
  {
   "cell_type": "code",
   "execution_count": null,
   "id": "employed-recording",
   "metadata": {},
   "outputs": [],
   "source": []
  }
 ],
 "metadata": {
  "kernelspec": {
   "display_name": "Python 3",
   "language": "python",
   "name": "python3"
  },
  "language_info": {
   "codemirror_mode": {
    "name": "ipython",
    "version": 3
   },
   "file_extension": ".py",
   "mimetype": "text/x-python",
   "name": "python",
   "nbconvert_exporter": "python",
   "pygments_lexer": "ipython3",
   "version": "3.9.1"
  }
 },
 "nbformat": 4,
 "nbformat_minor": 5
}
