{
 "cells": [
  {
   "cell_type": "markdown",
   "id": "patient-cooperation",
   "metadata": {},
   "source": [
    "The data that I will be using is US presidential election data from 1976 - 2020. The source of the data is MIT's Election Data Science Lab, hosted by Harvard Dataverse. This data was given to me by Dr. Silva.\n",
    "Link: https://dataverse.harvard.edu/file.xhtml?fileId=4299753&version=6.0\n",
    "This data includes the following: election year, state, office, candidate, party, candidate votes, total votes, etc."
   ]
  }
 ],
 "metadata": {
  "kernelspec": {
   "display_name": "Python 3",
   "language": "python",
   "name": "python3"
  },
  "language_info": {
   "codemirror_mode": {
    "name": "ipython",
    "version": 3
   },
   "file_extension": ".py",
   "mimetype": "text/x-python",
   "name": "python",
   "nbconvert_exporter": "python",
   "pygments_lexer": "ipython3",
   "version": "3.9.1"
  }
 },
 "nbformat": 4,
 "nbformat_minor": 5
}
