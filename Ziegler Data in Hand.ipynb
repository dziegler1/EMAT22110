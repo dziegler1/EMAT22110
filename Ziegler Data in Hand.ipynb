{
 "cells": [
  {
   "cell_type": "markdown",
   "id": "timely-april",
   "metadata": {},
   "source": [
    "This data was given to me by Dr. Silva. The source of the data is MIT's Election Data Science Lab, hosted by Harvard Dataverse.\n",
    "Link: https://dataverse.harvard.edu/file.xhtml?fileId=4299753&version=6.0\n",
    "This data includes the following: election year, state, office, candidate, party, candidate votes, total votes, etc."
   ]
  }
 ],
 "metadata": {
  "kernelspec": {
   "display_name": "Python 3",
   "language": "python",
   "name": "python3"
  },
  "language_info": {
   "codemirror_mode": {
    "name": "ipython",
    "version": 3
   },
   "file_extension": ".py",
   "mimetype": "text/x-python",
   "name": "python",
   "nbconvert_exporter": "python",
   "pygments_lexer": "ipython3",
   "version": "3.9.1"
  }
 },
 "nbformat": 4,
 "nbformat_minor": 5
}
